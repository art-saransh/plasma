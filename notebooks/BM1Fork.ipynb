{
 "cells": [
  {
   "cell_type": "markdown",
   "metadata": {},
   "source": [
    "# Classifying all of MNIST\n",
    "\n",
    "Current SOA does only 2 digits, `IBM=(0,1)`, `Google=(3,6)`"
   ]
  },
  {
   "cell_type": "code",
   "execution_count": 1,
   "metadata": {},
   "outputs": [],
   "source": [
    "import numpy as np\n",
    "import matplotlib.pyplot as plt\n",
    "\n",
    "import torch\n",
    "from torch.autograd import Function\n",
    "from torchvision import datasets, transforms\n",
    "import torch.optim as optim\n",
    "import torch.nn as nn\n",
    "import torch.nn.functional as F\n",
    "\n",
    "\n",
    "import qiskit\n",
    "from qiskit.visualization import *\n",
    "from qiskit_aer import AerSimulator\n",
    "from qiskit_machine_learning.neural_networks import EstimatorQNN\n",
    "from qiskit.utils import algorithm_globals\n",
    "\n",
    "from concurrent.futures import ThreadPoolExecutor\n",
    "from qiskit.quantum_info import SparsePauliOp\n",
    "import time as t"
   ]
  },
  {
   "cell_type": "markdown",
   "metadata": {},
   "source": [
    "### Original Net"
   ]
  },
  {
   "cell_type": "code",
   "execution_count": 2,
   "metadata": {},
   "outputs": [],
   "source": [
    "n_train = 10000;\n",
    "n_test = int(n_train/10); \n",
    "qubits = 12\n",
    "shots = 256\n",
    "threads = 8"
   ]
  },
  {
   "cell_type": "code",
   "execution_count": 3,
   "metadata": {},
   "outputs": [],
   "source": [
    "X_train = datasets.MNIST(root='./data', train=True, download=True,\n",
    "                         transform=transforms.Compose([transforms.ToTensor()]))\n",
    "\n",
    "X_train.data = X_train.data[:n_train]\n",
    "X_train.targets = X_train.targets[:n_train]\n",
    "\n",
    "train_loader = torch.utils.data.DataLoader(X_train, batch_size=64, shuffle=True)\n",
    "\n",
    "X_test = datasets.MNIST(root='./data', train=False, download=True,\n",
    "                        transform=transforms.Compose([transforms.ToTensor()]))\n",
    "\n",
    "X_test.data = X_test.data[:n_test]\n",
    "X_test.targets = X_test.targets[:n_test]\n",
    "\n",
    "test_loader = torch.utils.data.DataLoader(X_test, batch_size=1, shuffle=True)"
   ]
  },
  {
   "cell_type": "code",
   "execution_count": 4,
   "metadata": {},
   "outputs": [],
   "source": [
    "def unweight(dic):\n",
    "    return [k for k, v in dic.items() for i in range(v)]\n",
    "    \n",
    "def get_probabilities(results):\n",
    "\n",
    "    if isinstance(results, dict):\n",
    "        results = [results]\n",
    "\n",
    "    probabilities = []\n",
    "    for result in results:\n",
    "        arr = np.mean([list(map(int, x)) for x in unweight(result)], axis=0)\n",
    "        probabilities.append(arr)\n",
    "    \n",
    "    return probabilities[0] if len(probabilities)==1 else probabilities"
   ]
  },
  {
   "cell_type": "markdown",
   "metadata": {},
   "source": [
    "```js\n",
    "\"IN IMAGE\" = Conv = Conv = DropOut = Linear\n",
    "||\n",
    "Quantum\n",
    "||\n",
    "Linear = \"OUTPIT\"\n",
    "```"
   ]
  },
  {
   "cell_type": "code",
   "execution_count": 5,
   "metadata": {},
   "outputs": [],
   "source": [
    "class QuantumCircuit:\n",
    "    def __init__(self, n_qubits):\n",
    "        self.threads = threads;\n",
    "        circs = []\n",
    "        for i in range(threads): # Creates 8 parallel identical circuits\n",
    "            circ = qiskit.QuantumCircuit(qubits);\n",
    "            all_qubits = [i for i in range(qubits)]\n",
    "            circ.h(all_qubits)\n",
    "            # Parametrisation\n",
    "            params = [qiskit.circuit.Parameter('theta')]\n",
    "            circ.rx(params[0], all_qubits)\n",
    "            # run\n",
    "            circ.measure_all()\n",
    "            \n",
    "            param_dict = {param: np.random.random() for param in params}\n",
    "            bound_circuit = circ.assign_parameters(parameters = param_dict)\n",
    "            \n",
    "            circs.append(bound_circuit);\n",
    "\n",
    "        self.circuits = circs;\n",
    "\n",
    "    def runner(self, circuit):\n",
    "        # backend = qiskit.Aer.get_backend('aer_simulator')\n",
    "        backend = AerSimulator()\n",
    "        \n",
    "        result = qiskit.execute(circuit, backend, shots=int(shots/threads)).result()\n",
    "        result = get_probabilities(result.get_counts(circuit))\n",
    "        return result\n",
    "\n",
    "    def run(self, inputs):\n",
    "        reses = None;\n",
    "        with ThreadPoolExecutor(max_workers=len(self.circuits)) as executor:\n",
    "            reses = list(executor.map(self.runner, self.circuits))\n",
    "\n",
    "        return np.average(reses, axis=0)"
   ]
  },
  {
   "cell_type": "code",
   "execution_count": 6,
   "metadata": {},
   "outputs": [],
   "source": [
    "class HybridFunction(Function):\n",
    "    \"\"\" Hybrid quantum - classical function definition \"\"\"\n",
    "\n",
    "    @staticmethod  # Note: the @staticmethod decorator is not strictly necessary here\n",
    "    def forward(ctx, input, quantum_circuit):\n",
    "        \"\"\" Forward pass computation \"\"\"\n",
    "        ctx.shift = np.pi / 2;  # Store the shift value for the backward pass\n",
    "        # Store the quantum circuit for the backward pass\n",
    "        ctx.quantum_circuit = quantum_circuit\n",
    "\n",
    "        results = []; \n",
    "        for i in range(len(input)):\n",
    "            expectation_z = ctx.quantum_circuit.run(input[i].tolist())   \n",
    "            results.append(torch.tensor(np.array([expectation_z])))\n",
    "\n",
    "        # Save the input and the result for the backward pass\n",
    "        results = torch.stack(results).squeeze(1)\n",
    "        ctx.save_for_backward(input, results)\n",
    "\n",
    "        return results\n",
    "\n",
    "    @staticmethod\n",
    "    def backward(ctx, grad_output):\n",
    "        \"\"\" Backward pass computation \"\"\"\n",
    "        input, expectation_z = ctx.saved_tensors  # Load the saved tensors\n",
    "        # Convert the input to a numpy array\n",
    "        input_list = np.array(input.tolist())\n",
    "        \n",
    "        shift_right = input_list + np.ones(input_list.shape) * ctx.shift # Shift right\n",
    "        shift_left = input_list - np.ones(input_list.shape) * ctx.shift # Shift left\n",
    "\n",
    "        gradients = []\n",
    "        for i in range(len(input_list)):\n",
    "            expectation_right = ctx.quantum_circuit.run(shift_right[i]) # Run the quantum circuit for the right shift\n",
    "            expectation_left = ctx.quantum_circuit.run(shift_left[i]) # Run the quantum circuit for the left shift\n",
    "\n",
    "            gradient = torch.tensor(np.array([expectation_right])) - \\\n",
    "                torch.tensor(np.array([expectation_left])) # Compute the gradient\n",
    "            gradients.append(gradient)\n",
    "            \n",
    "        # gradients = np.array([gradients]).T\n",
    "        gradients = torch.stack(gradients).squeeze(1)\n",
    "        return gradients * grad_output.float(), None, None"
   ]
  },
  {
   "cell_type": "code",
   "execution_count": 7,
   "metadata": {},
   "outputs": [],
   "source": [
    "class Hybrid(nn.Module):\n",
    "    \"\"\" Hybrid quantum - classical layer definition \"\"\"\n",
    "\n",
    "    def __init__(self):\n",
    "        super(Hybrid, self).__init__()\n",
    "        self.quantum_circuit = QuantumCircuit(10)\n",
    "\n",
    "    def forward(self, input):\n",
    "        return HybridFunction.apply(input, self.quantum_circuit)"
   ]
  },
  {
   "cell_type": "code",
   "execution_count": 8,
   "metadata": {},
   "outputs": [
    {
     "name": "stdout",
     "output_type": "stream",
     "text": [
      "Net(\n",
      "  (conv1): Conv2d(1, 6, kernel_size=(4, 4), stride=(1, 1))\n",
      "  (conv2): Conv2d(6, 16, kernel_size=(4, 4), stride=(1, 1))\n",
      "  (dropout): Dropout2d(p=0.5, inplace=False)\n",
      "  (fc1): Linear(in_features=256, out_features=12, bias=True)\n",
      "  (fc2): Linear(in_features=12, out_features=10, bias=True)\n",
      ")\n"
     ]
    }
   ],
   "source": [
    "class Net(nn.Module):\n",
    "    def __init__(self):\n",
    "        super(Net, self).__init__()\n",
    "        self.conv1 = nn.Conv2d(1, 6, kernel_size=4)\n",
    "        self.conv2 = nn.Conv2d(6, 16, kernel_size=4)\n",
    "        out_conv1 = F.max_pool2d(self.conv1(torch.rand(1,1,28,28)), 2); \n",
    "        out_conv2 = F.max_pool2d(self.conv2(out_conv1), 2)\n",
    "        self.dropout = nn.Dropout2d()\n",
    "        self.fc1 = nn.Linear(out_conv2.view(1,-1).shape[1], qubits)\n",
    "#         self.hybrid = Hybrid()\n",
    "#         out_hybrid = self.hybrid(torch.rand(qubits,qubits))\n",
    "        self.fc2 = nn.Linear(qubits, 10)\n",
    "        \n",
    "#         each conv reduces size, the more the better so that we ensure that the quantum does the heavy lifting\n",
    "\n",
    "    def forward(self, x):\n",
    "        x = F.relu(self.conv1(x))\n",
    "        x = F.max_pool2d(x, 2)\n",
    "        x = F.relu(self.conv2(x))\n",
    "        x = F.max_pool2d(x, 2)\n",
    "        x = self.dropout(x)\n",
    "        x = x.view(x.shape[0], -1)\n",
    "        x = self.fc1(x) # We don't relu this to prevent learning, we pass as-is to QC\n",
    "#         x = self.hybrid(x).type(torch.FloatTensor)\n",
    "        x = self.fc2(x)\n",
    "        return x; \n",
    "    \n",
    "model = Net();\n",
    "print(model)"
   ]
  },
  {
   "cell_type": "code",
   "execution_count": 15,
   "metadata": {},
   "outputs": [
    {
     "name": "stdout",
     "output_type": "stream",
     "text": [
      "Avg Itr Time: -1.2s x 1 itrs = -0.0min\n",
      "Training [7%]\tLoss: 0.0667\n",
      "Avg Itr Time: -1.2s x 1 itrs = -0.0min\n",
      "Training [13%]\tLoss: 0.0685\n",
      "Avg Itr Time: -1.2s x 1 itrs = -0.0min\n",
      "Training [20%]\tLoss: 0.0675\n",
      "Avg Itr Time: -1.2s x 1 itrs = -0.0min\n",
      "Training [27%]\tLoss: 0.0632\n",
      "Avg Itr Time: -1.2s x 1 itrs = -0.0min\n",
      "Training [33%]\tLoss: 0.0667\n",
      "Avg Itr Time: -1.2s x 1 itrs = -0.0min\n",
      "Training [40%]\tLoss: 0.0694\n",
      "Avg Itr Time: -1.2s x 1 itrs = -0.0min\n",
      "Training [47%]\tLoss: 0.0745\n",
      "Avg Itr Time: -1.3s x 1 itrs = -0.0min\n",
      "Training [53%]\tLoss: 0.0694\n",
      "Avg Itr Time: -1.2s x 1 itrs = -0.0min\n",
      "Training [60%]\tLoss: 0.0696\n",
      "Avg Itr Time: -1.2s x 1 itrs = -0.0min\n",
      "Training [67%]\tLoss: 0.0707\n",
      "Avg Itr Time: -1.2s x 1 itrs = -0.0min\n",
      "Training [73%]\tLoss: 0.0675\n"
     ]
    },
    {
     "ename": "KeyboardInterrupt",
     "evalue": "",
     "output_type": "error",
     "traceback": [
      "\u001b[0;31m---------------------------------------------------------------------------\u001b[0m",
      "\u001b[0;31mKeyboardInterrupt\u001b[0m                         Traceback (most recent call last)",
      "Cell \u001b[0;32mIn[15], line 16\u001b[0m\n\u001b[1;32m     13\u001b[0m times \u001b[38;5;241m=\u001b[39m []\n\u001b[1;32m     15\u001b[0m now \u001b[38;5;241m=\u001b[39m t\u001b[38;5;241m.\u001b[39mtime()\n\u001b[0;32m---> 16\u001b[0m \u001b[38;5;28;01mfor\u001b[39;00m batch_idx, (data, target) \u001b[38;5;129;01min\u001b[39;00m \u001b[38;5;28menumerate\u001b[39m(train_loader):\n\u001b[1;32m     17\u001b[0m     z \u001b[38;5;241m=\u001b[39m t\u001b[38;5;241m.\u001b[39mtime()\n\u001b[1;32m     18\u001b[0m     optimizer\u001b[38;5;241m.\u001b[39mzero_grad()\n",
      "File \u001b[0;32m/opt/homebrew/Caskroom/miniconda/base/envs/qiskit/lib/python3.11/site-packages/torch/utils/data/dataloader.py:634\u001b[0m, in \u001b[0;36m_BaseDataLoaderIter.__next__\u001b[0;34m(self)\u001b[0m\n\u001b[1;32m    631\u001b[0m \u001b[38;5;28;01mif\u001b[39;00m \u001b[38;5;28mself\u001b[39m\u001b[38;5;241m.\u001b[39m_sampler_iter \u001b[38;5;129;01mis\u001b[39;00m \u001b[38;5;28;01mNone\u001b[39;00m:\n\u001b[1;32m    632\u001b[0m     \u001b[38;5;66;03m# TODO(https://github.com/pytorch/pytorch/issues/76750)\u001b[39;00m\n\u001b[1;32m    633\u001b[0m     \u001b[38;5;28mself\u001b[39m\u001b[38;5;241m.\u001b[39m_reset()  \u001b[38;5;66;03m# type: ignore[call-arg]\u001b[39;00m\n\u001b[0;32m--> 634\u001b[0m data \u001b[38;5;241m=\u001b[39m \u001b[38;5;28;43mself\u001b[39;49m\u001b[38;5;241;43m.\u001b[39;49m\u001b[43m_next_data\u001b[49m\u001b[43m(\u001b[49m\u001b[43m)\u001b[49m\n\u001b[1;32m    635\u001b[0m \u001b[38;5;28mself\u001b[39m\u001b[38;5;241m.\u001b[39m_num_yielded \u001b[38;5;241m+\u001b[39m\u001b[38;5;241m=\u001b[39m \u001b[38;5;241m1\u001b[39m\n\u001b[1;32m    636\u001b[0m \u001b[38;5;28;01mif\u001b[39;00m \u001b[38;5;28mself\u001b[39m\u001b[38;5;241m.\u001b[39m_dataset_kind \u001b[38;5;241m==\u001b[39m _DatasetKind\u001b[38;5;241m.\u001b[39mIterable \u001b[38;5;129;01mand\u001b[39;00m \\\n\u001b[1;32m    637\u001b[0m         \u001b[38;5;28mself\u001b[39m\u001b[38;5;241m.\u001b[39m_IterableDataset_len_called \u001b[38;5;129;01mis\u001b[39;00m \u001b[38;5;129;01mnot\u001b[39;00m \u001b[38;5;28;01mNone\u001b[39;00m \u001b[38;5;129;01mand\u001b[39;00m \\\n\u001b[1;32m    638\u001b[0m         \u001b[38;5;28mself\u001b[39m\u001b[38;5;241m.\u001b[39m_num_yielded \u001b[38;5;241m>\u001b[39m \u001b[38;5;28mself\u001b[39m\u001b[38;5;241m.\u001b[39m_IterableDataset_len_called:\n",
      "File \u001b[0;32m/opt/homebrew/Caskroom/miniconda/base/envs/qiskit/lib/python3.11/site-packages/torch/utils/data/dataloader.py:678\u001b[0m, in \u001b[0;36m_SingleProcessDataLoaderIter._next_data\u001b[0;34m(self)\u001b[0m\n\u001b[1;32m    676\u001b[0m \u001b[38;5;28;01mdef\u001b[39;00m \u001b[38;5;21m_next_data\u001b[39m(\u001b[38;5;28mself\u001b[39m):\n\u001b[1;32m    677\u001b[0m     index \u001b[38;5;241m=\u001b[39m \u001b[38;5;28mself\u001b[39m\u001b[38;5;241m.\u001b[39m_next_index()  \u001b[38;5;66;03m# may raise StopIteration\u001b[39;00m\n\u001b[0;32m--> 678\u001b[0m     data \u001b[38;5;241m=\u001b[39m \u001b[38;5;28;43mself\u001b[39;49m\u001b[38;5;241;43m.\u001b[39;49m\u001b[43m_dataset_fetcher\u001b[49m\u001b[38;5;241;43m.\u001b[39;49m\u001b[43mfetch\u001b[49m\u001b[43m(\u001b[49m\u001b[43mindex\u001b[49m\u001b[43m)\u001b[49m  \u001b[38;5;66;03m# may raise StopIteration\u001b[39;00m\n\u001b[1;32m    679\u001b[0m     \u001b[38;5;28;01mif\u001b[39;00m \u001b[38;5;28mself\u001b[39m\u001b[38;5;241m.\u001b[39m_pin_memory:\n\u001b[1;32m    680\u001b[0m         data \u001b[38;5;241m=\u001b[39m _utils\u001b[38;5;241m.\u001b[39mpin_memory\u001b[38;5;241m.\u001b[39mpin_memory(data, \u001b[38;5;28mself\u001b[39m\u001b[38;5;241m.\u001b[39m_pin_memory_device)\n",
      "File \u001b[0;32m/opt/homebrew/Caskroom/miniconda/base/envs/qiskit/lib/python3.11/site-packages/torch/utils/data/_utils/fetch.py:51\u001b[0m, in \u001b[0;36m_MapDatasetFetcher.fetch\u001b[0;34m(self, possibly_batched_index)\u001b[0m\n\u001b[1;32m     49\u001b[0m         data \u001b[38;5;241m=\u001b[39m \u001b[38;5;28mself\u001b[39m\u001b[38;5;241m.\u001b[39mdataset\u001b[38;5;241m.\u001b[39m__getitems__(possibly_batched_index)\n\u001b[1;32m     50\u001b[0m     \u001b[38;5;28;01melse\u001b[39;00m:\n\u001b[0;32m---> 51\u001b[0m         data \u001b[38;5;241m=\u001b[39m \u001b[43m[\u001b[49m\u001b[38;5;28;43mself\u001b[39;49m\u001b[38;5;241;43m.\u001b[39;49m\u001b[43mdataset\u001b[49m\u001b[43m[\u001b[49m\u001b[43midx\u001b[49m\u001b[43m]\u001b[49m\u001b[43m \u001b[49m\u001b[38;5;28;43;01mfor\u001b[39;49;00m\u001b[43m \u001b[49m\u001b[43midx\u001b[49m\u001b[43m \u001b[49m\u001b[38;5;129;43;01min\u001b[39;49;00m\u001b[43m \u001b[49m\u001b[43mpossibly_batched_index\u001b[49m\u001b[43m]\u001b[49m\n\u001b[1;32m     52\u001b[0m \u001b[38;5;28;01melse\u001b[39;00m:\n\u001b[1;32m     53\u001b[0m     data \u001b[38;5;241m=\u001b[39m \u001b[38;5;28mself\u001b[39m\u001b[38;5;241m.\u001b[39mdataset[possibly_batched_index]\n",
      "File \u001b[0;32m/opt/homebrew/Caskroom/miniconda/base/envs/qiskit/lib/python3.11/site-packages/torch/utils/data/_utils/fetch.py:51\u001b[0m, in \u001b[0;36m<listcomp>\u001b[0;34m(.0)\u001b[0m\n\u001b[1;32m     49\u001b[0m         data \u001b[38;5;241m=\u001b[39m \u001b[38;5;28mself\u001b[39m\u001b[38;5;241m.\u001b[39mdataset\u001b[38;5;241m.\u001b[39m__getitems__(possibly_batched_index)\n\u001b[1;32m     50\u001b[0m     \u001b[38;5;28;01melse\u001b[39;00m:\n\u001b[0;32m---> 51\u001b[0m         data \u001b[38;5;241m=\u001b[39m [\u001b[38;5;28;43mself\u001b[39;49m\u001b[38;5;241;43m.\u001b[39;49m\u001b[43mdataset\u001b[49m\u001b[43m[\u001b[49m\u001b[43midx\u001b[49m\u001b[43m]\u001b[49m \u001b[38;5;28;01mfor\u001b[39;00m idx \u001b[38;5;129;01min\u001b[39;00m possibly_batched_index]\n\u001b[1;32m     52\u001b[0m \u001b[38;5;28;01melse\u001b[39;00m:\n\u001b[1;32m     53\u001b[0m     data \u001b[38;5;241m=\u001b[39m \u001b[38;5;28mself\u001b[39m\u001b[38;5;241m.\u001b[39mdataset[possibly_batched_index]\n",
      "File \u001b[0;32m/opt/homebrew/Caskroom/miniconda/base/envs/qiskit/lib/python3.11/site-packages/torchvision/datasets/mnist.py:142\u001b[0m, in \u001b[0;36mMNIST.__getitem__\u001b[0;34m(self, index)\u001b[0m\n\u001b[1;32m    138\u001b[0m img, target \u001b[38;5;241m=\u001b[39m \u001b[38;5;28mself\u001b[39m\u001b[38;5;241m.\u001b[39mdata[index], \u001b[38;5;28mint\u001b[39m(\u001b[38;5;28mself\u001b[39m\u001b[38;5;241m.\u001b[39mtargets[index])\n\u001b[1;32m    140\u001b[0m \u001b[38;5;66;03m# doing this so that it is consistent with all other datasets\u001b[39;00m\n\u001b[1;32m    141\u001b[0m \u001b[38;5;66;03m# to return a PIL Image\u001b[39;00m\n\u001b[0;32m--> 142\u001b[0m img \u001b[38;5;241m=\u001b[39m Image\u001b[38;5;241m.\u001b[39mfromarray(\u001b[43mimg\u001b[49m\u001b[38;5;241;43m.\u001b[39;49m\u001b[43mnumpy\u001b[49m\u001b[43m(\u001b[49m\u001b[43m)\u001b[49m, mode\u001b[38;5;241m=\u001b[39m\u001b[38;5;124m\"\u001b[39m\u001b[38;5;124mL\u001b[39m\u001b[38;5;124m\"\u001b[39m)\n\u001b[1;32m    144\u001b[0m \u001b[38;5;28;01mif\u001b[39;00m \u001b[38;5;28mself\u001b[39m\u001b[38;5;241m.\u001b[39mtransform \u001b[38;5;129;01mis\u001b[39;00m \u001b[38;5;129;01mnot\u001b[39;00m \u001b[38;5;28;01mNone\u001b[39;00m:\n\u001b[1;32m    145\u001b[0m     img \u001b[38;5;241m=\u001b[39m \u001b[38;5;28mself\u001b[39m\u001b[38;5;241m.\u001b[39mtransform(img)\n",
      "\u001b[0;31mKeyboardInterrupt\u001b[0m: "
     ]
    }
   ],
   "source": [
    "optimizer = optim.Adam(model.parameters(), lr=0.00001)\n",
    "loss_func = nn.CrossEntropyLoss()\n",
    "\n",
    "epochs = 15\n",
    "loss_list = [2.4]\n",
    "\n",
    "itrs = len(train_loader)\n",
    "logspan = int(itrs*22/100) # 22%\n",
    "\n",
    "model.train()\n",
    "for epoch in range(epochs):\n",
    "    total_loss = []\n",
    "    times = []\n",
    "    \n",
    "    now = t.time()\n",
    "    for batch_idx, (data, target) in enumerate(train_loader):\n",
    "        z = t.time()\n",
    "        optimizer.zero_grad()\n",
    "        # Forward pass\n",
    "        output = model(data)\n",
    "        \n",
    "        loss = loss_func(output, target) # Loss\n",
    "        loss.backward() # Backward pass\n",
    "        optimizer.step() # Optimize the weights\n",
    "        \n",
    "        total_loss.append(loss.item())\n",
    "#         z = t.time() - z;\n",
    "#         if ((batch_idx%(logspan))==0): print(f\"{int(z)*logspan} sec/{logspan} itrs\")\n",
    "    \n",
    "    times.append(now-t.time())\n",
    "    print(f\"Avg Itr Time: {np.round(np.average(times),1)}s x {len(times)} itrs = {np.round(np.sum(times)/60,1)}min\")\n",
    "    loss_list.append(sum(total_loss)/len(total_loss))\n",
    "    \n",
    "    diff = np.abs(loss_list[-1] - loss_list[-2]) /loss_list[-1]; \n",
    "    if diff <= 0.001: # Early stopping criterial loss diff = 0.1%\n",
    "        break;\n",
    "    \n",
    "    print(f'Training [{100. * (epoch + 1) / epochs:.0f}%]\\tLoss: {loss_list[-1]:.4f}')"
   ]
  },
  {
   "cell_type": "code",
   "execution_count": 16,
   "metadata": {},
   "outputs": [
    {
     "data": {
      "text/plain": [
       "Text(0, 0.5, 'CrossEntropy Loss')"
      ]
     },
     "execution_count": 16,
     "metadata": {},
     "output_type": "execute_result"
    },
    {
     "data": {
      "image/png": "[encoded data removed]",
      "text/plain": [
       "<Figure size 640x480 with 1 Axes>"
      ]
     },
     "metadata": {},
     "output_type": "display_data"
    }
   ],
   "source": [
    "plt.plot(loss_list)\n",
    "plt.title('Hybrid NN Training Convergence')\n",
    "plt.xlabel('Training Iterations')\n",
    "plt.ylabel('CrossEntropy Loss')"
   ]
  },
  {
   "cell_type": "code",
   "execution_count": 17,
   "metadata": {},
   "outputs": [
    {
     "name": "stdout",
     "output_type": "stream",
     "text": [
      "Performance on test data:\n",
      "\tLoss: 0.0626\n",
      "\tAccuracy: 98.2%\n"
     ]
    }
   ],
   "source": [
    "model.eval()\n",
    "with torch.no_grad():\n",
    "    \n",
    "    correct = 0\n",
    "    for batch_idx, (data, target) in enumerate(test_loader):\n",
    "        output = model(data)\n",
    "        \n",
    "        pred = output.argmax(dim=1, keepdim=True) \n",
    "        correct += pred.eq(target.view_as(pred)).sum().item()\n",
    "        \n",
    "        loss = loss_func(output, target)\n",
    "        total_loss.append(loss.item())\n",
    "        \n",
    "    print('Performance on test data:\\n\\tLoss: {:.4f}\\n\\tAccuracy: {:.1f}%'.format(\n",
    "        sum(total_loss) / len(total_loss),\n",
    "        correct / len(test_loader) * 100)\n",
    "        )"
   ]
  },
  {
   "cell_type": "code",
   "execution_count": 18,
   "metadata": {},
   "outputs": [
    {
     "name": "stdout",
     "output_type": "stream",
     "text": [
      "tensor([[ 1.5873e+01, -9.8153e+00,  4.2450e+00,  2.4791e+00, -1.6399e+01,\n",
      "          1.4258e-02, -1.9850e+00, -9.2815e+00,  6.0455e+00,  3.2272e+00]])\n",
      "tensor([[ -4.6618,  -1.9608,   3.2742, -10.5359,  23.7719, -11.9771,  -0.4770,\n",
      "           1.1071,   3.9926,   8.7216]])\n",
      "tensor([[ -6.0300,  -3.7840,  23.7193,  -2.7482,   7.8921, -11.8307,  -7.4496,\n",
      "          -0.7533,   6.5853,  -5.7991]])\n",
      "tensor([[-4.0474, -1.4802,  9.2227,  5.3123, -6.7786, -7.8645, -6.9947, -7.3146,\n",
      "         18.2758, -3.1193]])\n",
      "tensor([[-14.4576,   1.4742,   7.5411,  27.6621,  -3.9730,   1.0000, -19.2490,\n",
      "           4.2239,   5.7884,  -2.8777]])\n",
      "tensor([[-6.3655, 11.8791, -2.1042, -2.3454,  2.9902, -3.2684, -4.1200,  1.7393,\n",
      "         -0.8540, -1.7930]])\n"
     ]
    },
    {
     "data": {
      "image/png": "[encoded data removed]",
      "text/plain": [
       "<Figure size 1000x300 with 6 Axes>"
      ]
     },
     "metadata": {},
     "output_type": "display_data"
    }
   ],
   "source": [
    "n_samples_show = 6\n",
    "count = 0\n",
    "fig, axes = plt.subplots(nrows=1, ncols=n_samples_show, figsize=(10, 3))\n",
    "\n",
    "model.eval()\n",
    "with torch.no_grad():\n",
    "    for batch_idx, (data, target) in enumerate(test_loader):\n",
    "        if count == n_samples_show:\n",
    "            break\n",
    "        output = model(data)\n",
    "        print(output)\n",
    "        \n",
    "        pred = output.argmax(dim=1, keepdim=True) \n",
    "\n",
    "        axes[count].imshow(data[0].numpy().squeeze(), cmap='gray')\n",
    "\n",
    "        axes[count].set_xticks([])\n",
    "        axes[count].set_yticks([])\n",
    "        axes[count].set_title('Predicted {}'.format(pred.item()))\n",
    "        \n",
    "        count += 1"
   ]
  },
  {
   "cell_type": "code",
   "execution_count": null,
   "metadata": {},
   "outputs": [],
   "source": []
  },
  {
   "cell_type": "code",
   "execution_count": null,
   "metadata": {},
   "outputs": [],
   "source": []
  },
  {
   "cell_type": "code",
   "execution_count": null,
   "metadata": {},
   "outputs": [],
   "source": []
  },
  {
   "cell_type": "code",
   "execution_count": null,
   "metadata": {},
   "outputs": [],
   "source": []
  },
  {
   "cell_type": "markdown",
   "metadata": {},
   "source": [
    "## Experiments"
   ]
  },
  {
   "cell_type": "code",
   "execution_count": 55,
   "metadata": {},
   "outputs": [
    {
     "name": "stdout",
     "output_type": "stream",
     "text": [
      "torch.Size([1, 16, 5, 5])\n",
      "tensor([[-0.0079,  0.0523, -0.0571,  0.2836, -0.2014,  0.0532, -0.0365,  0.1164,\n",
      "          0.3323,  0.0715]], grad_fn=<AddmmBackward0>)\n",
      "0.38 ms\n"
     ]
    }
   ],
   "source": [
    "start = t.perf_counter()\n",
    "class Net(nn.Module):\n",
    "    def __init__(self):\n",
    "        super(Net, self).__init__()\n",
    "        self.conv1 = nn.Conv2d(1, 6, kernel_size=3)\n",
    "        self.conv2 = nn.Conv2d(6, 16, kernel_size=3)\n",
    "        out_conv1 = F.max_pool2d(self.conv1(torch.rand(1,1,28,28)), 2); \n",
    "        out_conv2 = F.max_pool2d(self.conv2(out_conv1), 2)\n",
    "        \n",
    "        print(out_conv2.shape)\n",
    "        \n",
    "        self.dropout = nn.Dropout2d()\n",
    "        self.fc1 = nn.Linear(out_conv2.view(1,-1).shape[1], 10)\n",
    "        \n",
    "#         each conv reduces size, the more the better so that we ensure that the quantum does the heavy lifting\n",
    "\n",
    "    def forward(self, x):\n",
    "        x = F.relu(self.conv1(x))\n",
    "        x = F.max_pool2d(x, 2)\n",
    "        x = F.relu(self.conv2(x))\n",
    "        x = F.max_pool2d(x, 2)\n",
    "        x = self.dropout(x)\n",
    "        x = x.view(x.shape[0], -1)\n",
    "        x = self.fc1(x) # We don't relu this to prevent learning, we pass as-is to QC\n",
    "        return x; \n",
    "    \n",
    "model = Net();\n",
    "\n",
    "test = model(torch.randn(1,1,28,28))\n",
    "diff  = t.perf_counter() - start;\n",
    "print(test)\n",
    "print(str(np.round(diff*100, 2)), \"ms\")"
   ]
  },
  {
   "cell_type": "code",
   "execution_count": null,
   "metadata": {},
   "outputs": [],
   "source": []
  },
  {
   "cell_type": "code",
   "execution_count": null,
   "metadata": {},
   "outputs": [],
   "source": []
  },
  {
   "cell_type": "code",
   "execution_count": null,
   "metadata": {},
   "outputs": [],
   "source": []
  },
  {
   "cell_type": "code",
   "execution_count": null,
   "metadata": {},
   "outputs": [],
   "source": []
  },
  {
   "cell_type": "code",
   "execution_count": null,
   "metadata": {},
   "outputs": [],
   "source": []
  },
  {
   "cell_type": "code",
   "execution_count": null,
   "metadata": {},
   "outputs": [],
   "source": []
  },
  {
   "cell_type": "code",
   "execution_count": 1,
   "metadata": {},
   "outputs": [
    {
     "data": {
      "text/html": [
       "\n",
       "<style>\n",
       "html{filter:invert(1)}\n",
       "\n",
       "div.prompt{opacity: 0.5;}\n",
       "\n",
       ".btn-default{border-color: transparent;}\n",
       "\n",
       "#header-container{display:none !important;}\n",
       "\n",
       "div.cell.selected, div.cell.selected.jupyter-soft-selected{border-color: transparent;}\n",
       "</style>\n"
      ],
      "text/plain": [
       "<IPython.core.display.HTML object>"
      ]
     },
     "execution_count": 1,
     "metadata": {},
     "output_type": "execute_result"
    }
   ],
   "source": [
    "from IPython.core.display import HTML\n",
    "HTML(\"\"\"\n",
    "<style>\n",
    "html{filter:invert(1)}\n",
    "\n",
    "div.prompt{opacity: 0.5;}\n",
    "\n",
    ".btn-default{border-color: transparent;}\n",
    "\n",
    "#header-container{display:none !important;}\n",
    "\n",
    "div.cell.selected, div.cell.selected.jupyter-soft-selected{border-color: transparent;}\n",
    "</style>\n",
    "\"\"\")"
   ]
  },
  {
   "cell_type": "code",
   "execution_count": null,
   "metadata": {},
   "outputs": [],
   "source": []
  }
 ],
 "metadata": {
  "kernelspec": {
   "display_name": "Python 3 (ipykernel)",
   "language": "python",
   "name": "python3"
  },
  "language_info": {
   "codemirror_mode": {
    "name": "ipython",
    "version": 3
   },
   "file_extension": ".py",
   "mimetype": "text/x-python",
   "name": "python",
   "nbconvert_exporter": "python",
   "pygments_lexer": "ipython3",
   "version": "3.11.0"
  }
 },
 "nbformat": 4,
 "nbformat_minor": 2
}
