{
 "cells": [
  {
   "cell_type": "code",
   "execution_count": 1,
   "id": "0fae4db8",
   "metadata": {},
   "outputs": [],
   "source": [
    "import time as t\n",
    "import numpy as np\n",
    "import matplotlib.pyplot as plt\n",
    "\n",
    "import qiskit\n",
    "from qiskit.visualization import *\n",
    "import qiskit_machine_learning as qml\n",
    "from qiskit_machine_learning.connectors import TorchConnector\n",
    "\n",
    "import torch\n",
    "from torch import cat, no_grad, manual_seed\n",
    "from torch.utils.data import DataLoader\n",
    "from torchvision import datasets, transforms\n",
    "from torch.optim import Adam\n",
    "from torch.optim.lr_scheduler import ExponentialLR, ReduceLROnPlateau\n",
    "from torch.nn import (\n",
    "    Module,\n",
    "    Conv2d,\n",
    "    Linear,\n",
    "    Dropout2d,\n",
    "    CrossEntropyLoss,\n",
    "    MaxPool2d,\n",
    "    Flatten,\n",
    "    Sequential,\n",
    "    ReLU,\n",
    ")\n",
    "import torch.nn.functional as F"
   ]
  },
  {
   "cell_type": "code",
   "execution_count": 12,
   "id": "3c9b514f",
   "metadata": {},
   "outputs": [
    {
     "name": "stdout",
     "output_type": "stream",
     "text": [
      "using 5 Qubits @1000 datapoints: [0, 1, 3, 4, 8] for 10 epochs\n"
     ]
    }
   ],
   "source": [
    "epochs = 10  # Set number of epochs\n",
    "filt = [0,1,3,4,8]\n",
    "# filt = None\n",
    "\n",
    "if filt==None: filt = [i for i in range(0,10)]\n",
    "\n",
    "qubits = len(filt)\n",
    "n_train = 200*len(filt)\n",
    "n_test = int(n_train/10);\n",
    "\n",
    "print(\n",
    "f'using {qubits} Qubits @{n_train} datapoints: {filt} for {epochs} epochs'\n",
    ")"
   ]
  },
  {
   "cell_type": "code",
   "execution_count": 13,
   "id": "e00f1a25",
   "metadata": {},
   "outputs": [],
   "source": [
    "X_train = datasets.MNIST(root='./data', train=True, download=True,\n",
    "                         transform=transforms.Compose([transforms.ToTensor()]))\n",
    "\n",
    "idx = np.array([], dtype=int)\n",
    "for label in filt:\n",
    "    idx = np.append(idx, np.where(X_train.targets == label)[0][:n_train])\n",
    "X_train.data = X_train.data[idx]\n",
    "X_train.targets = X_train.targets[idx]\n",
    "\n",
    "train_loader = torch.utils.data.DataLoader(X_train, batch_size=32, shuffle=True)\n",
    "\n",
    "\n",
    "X_test = datasets.MNIST(root='./data', train=False, download=True,\n",
    "                        transform=transforms.Compose([transforms.ToTensor()]))\n",
    "idx = np.array([], dtype=int)\n",
    "for label in filt:\n",
    "    idx = np.append(idx, np.where(X_test.targets == label)[0][:n_test])\n",
    "\n",
    "X_test.data = X_test.data[idx]\n",
    "X_test.targets = X_test.targets[idx]\n",
    "\n",
    "test_loader = torch.utils.data.DataLoader(X_test, batch_size=1, shuffle=True)"
   ]
  },
  {
   "cell_type": "code",
   "execution_count": 14,
   "id": "8f9bd854",
   "metadata": {},
   "outputs": [
    {
     "name": "stdout",
     "output_type": "stream",
     "text": [
      "     ┌─────────────────────────────────────────┐»\n",
      "q_0: ┤0                                        ├»\n",
      "     │                                         │»\n",
      "q_1: ┤1                                        ├»\n",
      "     │                                         │»\n",
      "q_2: ┤2 ZZFeatureMap(x[0],x[1],x[2],x[3],x[4]) ├»\n",
      "     │                                         │»\n",
      "q_3: ┤3                                        ├»\n",
      "     │                                         │»\n",
      "q_4: ┤4                                        ├»\n",
      "     └─────────────────────────────────────────┘»\n",
      "«     ┌──────────────────────────────────────────────────────────────────────────────────────────────────────────────────────────────────────────────────────────────────────────────────────────┐\n",
      "«q_0: ┤0                                                                                                                                                                                         ├\n",
      "«     │                                                                                                                                                                                          │\n",
      "«q_1: ┤1                                                                                                                                                                                         ├\n",
      "«     │                                                                                                                                                                                          │\n",
      "«q_2: ┤2 EfficientSU2(θ[0],θ[1],θ[2],θ[3],θ[4],θ[5],θ[6],θ[7],θ[8],θ[9],θ[10],θ[11],θ[12],θ[13],θ[14],θ[15],θ[16],θ[17],θ[18],θ[19],θ[20],θ[21],θ[22],θ[23],θ[24],θ[25],θ[26],θ[27],θ[28],θ[29]) ├\n",
      "«     │                                                                                                                                                                                          │\n",
      "«q_3: ┤3                                                                                                                                                                                         ├\n",
      "«     │                                                                                                                                                                                          │\n",
      "«q_4: ┤4                                                                                                                                                                                         ├\n",
      "«     └──────────────────────────────────────────────────────────────────────────────────────────────────────────────────────────────────────────────────────────────────────────────────────────┘\n"
     ]
    }
   ],
   "source": [
    "# Define and create QNN\n",
    "def create_qnn(qubits):\n",
    "    feature_map = qiskit.circuit.library.ZZFeatureMap(qubits)\n",
    "    ansatz = qiskit.circuit.library.EfficientSU2(\n",
    "                            qubits, su2_gates=['rx', 'ry', 'rz'], \n",
    "                            entanglement='circular', reps=1\n",
    "    )\n",
    "    qc = qiskit.circuit.QuantumCircuit(qubits)\n",
    "    qc.compose(feature_map, inplace=True)\n",
    "    qc.compose(ansatz, inplace=True)\n",
    "    \n",
    "#     print(f\"Circuit Depth {qc.depth()}\", qc)\n",
    "    transpiled = qiskit.compiler.transpile(qc)\n",
    "    print(transpiled)\n",
    "\n",
    "    # REMEMBER TO SET input_gradients=True FOR ENABLING HYBRID GRADIENT BACKPROP\n",
    "    qnn = qml.neural_networks.EstimatorQNN(\n",
    "        circuit=qc,\n",
    "        input_params=feature_map.parameters,\n",
    "        weight_params=ansatz.parameters,\n",
    "        input_gradients=True,\n",
    "    )\n",
    "    return qnn\n",
    "\n",
    "qnn4 = create_qnn(qubits)"
   ]
  },
  {
   "cell_type": "code",
   "execution_count": 15,
   "id": "9ede449c",
   "metadata": {},
   "outputs": [
    {
     "name": "stdout",
     "output_type": "stream",
     "text": [
      "Net(\n",
      "  (conv1): Conv2d(1, 6, kernel_size=(3, 3), stride=(1, 1))\n",
      "  (conv2): Conv2d(6, 16, kernel_size=(3, 3), stride=(1, 1))\n",
      "  (conv3): Conv2d(16, 5, kernel_size=(3, 3), stride=(1, 1))\n",
      "  (dropout): Dropout2d(p=0.5, inplace=False)\n",
      "  (qnn): TorchConnector()\n",
      "  (fc3): Linear(in_features=1, out_features=10, bias=True)\n",
      ")\n",
      "tensor([[ 0.4473, -0.2402,  0.2926, -0.9824, -0.2031, -0.3259, -0.9497, -0.9398,\n",
      "         -0.6205,  0.4118]], grad_fn=<AddmmBackward0>)\n"
     ]
    }
   ],
   "source": [
    "class Net(Module):\n",
    "    def __init__(self, qnn):\n",
    "        super().__init__()\n",
    "        self.conv1 = Conv2d(1, 6, kernel_size=3)\n",
    "        self.conv2 = Conv2d(6, 16, kernel_size=3)\n",
    "        self.conv3 = Conv2d(16, qubits, kernel_size=3) # outputs 1x10\n",
    "        self.dropout = Dropout2d()\n",
    "        self.qnn = TorchConnector(qnn)  # Apply torch connector, weights chosen\n",
    "        self.fc3 = Linear(1, 10) \n",
    "\n",
    "    def forward(self, x):\n",
    "        x = F.relu(self.conv1(x))\n",
    "        x = F.max_pool2d(x, 2)\n",
    "        x = F.relu(self.conv2(x))\n",
    "        x = F.max_pool2d(x, 2)\n",
    "        x = F.relu(self.conv3(x))\n",
    "        x = F.max_pool2d(x, 2)\n",
    "        \n",
    "        x = self.dropout(x)\n",
    "        x = x.view(x.shape[0], -1)\n",
    "        x = self.qnn(x)  # apply QNN\n",
    "        x = self.fc3(x)\n",
    "        return x; \n",
    "\n",
    "model4 = Net(qnn4)\n",
    "print(model4)\n",
    "print(model4(torch.randn(1,1,28,28))) # Just testing"
   ]
  },
  {
   "cell_type": "code",
   "execution_count": null,
   "id": "4afba82a",
   "metadata": {},
   "outputs": [],
   "source": [
    "# Define model, optimizer, and loss function\n",
    "optimizer = Adam(model4.parameters(), lr=0.01)\n",
    "scheduler = ExponentialLR(optimizer, gamma=0.9)\n",
    "\n",
    "loss_func = CrossEntropyLoss()\n",
    "\n",
    "# Start training\n",
    "loss_list = [2.3]  # Store loss history\n",
    "model4.train()  # Set model to training mode\n",
    "\n",
    "itrs = len(train_loader)\n",
    "logspan = int(itrs*12/100) # 12%\n",
    "\n",
    "print(f\"Running training for {qubits} Qubits @{itrs} itrs/epoch\")"
   ]
  },
  {
   "cell_type": "code",
   "execution_count": 17,
   "id": "150b9e66",
   "metadata": {},
   "outputs": [
    {
     "name": "stdout",
     "output_type": "stream",
     "text": [
      "Running training for 5 Qubits @157 itrs/epoch\n",
      "180 sec/18itrs\n",
      "162 sec/18itrs\n",
      "162 sec/18itrs\n",
      "180 sec/18itrs\n",
      "162 sec/18itrs\n",
      "180 sec/18itrs\n",
      "162 sec/18itrs\n",
      "162 sec/18itrs\n",
      "162 sec/18itrs\n",
      "Trained [10%]\tLoss: 1.9230 in 27 min \t(est. 270 min left)\n",
      "180 sec/18itrs\n",
      "180 sec/18itrs\n",
      "162 sec/18itrs\n",
      "162 sec/18itrs\n",
      "162 sec/18itrs\n",
      "162 sec/18itrs\n",
      "162 sec/18itrs\n",
      "162 sec/18itrs\n",
      "162 sec/18itrs\n",
      "Trained [20%]\tLoss: 1.6400 in 27 min \t(est. 243 min left)\n",
      "180 sec/18itrs\n",
      "180 sec/18itrs\n",
      "180 sec/18itrs\n",
      "162 sec/18itrs\n",
      "180 sec/18itrs\n",
      "162 sec/18itrs\n",
      "162 sec/18itrs\n",
      "162 sec/18itrs\n",
      "162 sec/18itrs\n",
      "Trained [30%]\tLoss: 1.5976 in 27 min \t(est. 216 min left)\n",
      "180 sec/18itrs\n",
      "162 sec/18itrs\n",
      "180 sec/18itrs\n",
      "180 sec/18itrs\n",
      "180 sec/18itrs\n",
      "180 sec/18itrs\n",
      "180 sec/18itrs\n",
      "180 sec/18itrs\n",
      "180 sec/18itrs\n",
      "Trained [40%]\tLoss: 1.5423 in 27 min \t(est. 189 min left)\n",
      "180 sec/18itrs\n",
      "162 sec/18itrs\n",
      "162 sec/18itrs\n",
      "162 sec/18itrs\n",
      "162 sec/18itrs\n",
      "162 sec/18itrs\n",
      "162 sec/18itrs\n",
      "162 sec/18itrs\n",
      "162 sec/18itrs\n",
      "Trained [50%]\tLoss: 1.4930 in 27 min \t(est. 162 min left)\n",
      "180 sec/18itrs\n",
      "180 sec/18itrs\n",
      "180 sec/18itrs\n",
      "180 sec/18itrs\n",
      "162 sec/18itrs\n",
      "162 sec/18itrs\n",
      "180 sec/18itrs\n",
      "162 sec/18itrs\n",
      "162 sec/18itrs\n",
      "Trained [60%]\tLoss: 1.4338 in 27 min \t(est. 135 min left)\n",
      "180 sec/18itrs\n",
      "180 sec/18itrs\n",
      "162 sec/18itrs\n",
      "162 sec/18itrs\n",
      "162 sec/18itrs\n",
      "162 sec/18itrs\n",
      "162 sec/18itrs\n",
      "162 sec/18itrs\n",
      "162 sec/18itrs\n",
      "Trained [70%]\tLoss: 1.3993 in 27 min \t(est. 108 min left)\n",
      "180 sec/18itrs\n",
      "180 sec/18itrs\n",
      "180 sec/18itrs\n",
      "162 sec/18itrs\n",
      "162 sec/18itrs\n",
      "162 sec/18itrs\n",
      "162 sec/18itrs\n",
      "162 sec/18itrs\n",
      "162 sec/18itrs\n",
      "Trained [80%]\tLoss: 1.3754 in 27 min \t(est. 81 min left)\n",
      "180 sec/18itrs\n",
      "180 sec/18itrs\n",
      "162 sec/18itrs\n",
      "180 sec/18itrs\n",
      "162 sec/18itrs\n",
      "162 sec/18itrs\n",
      "162 sec/18itrs\n",
      "162 sec/18itrs\n",
      "162 sec/18itrs\n",
      "Trained [90%]\tLoss: 1.3674 in 27 min \t(est. 54 min left)\n",
      "180 sec/18itrs\n",
      "180 sec/18itrs\n",
      "162 sec/18itrs\n",
      "180 sec/18itrs\n",
      "162 sec/18itrs\n",
      "162 sec/18itrs\n",
      "162 sec/18itrs\n",
      "162 sec/18itrs\n",
      "162 sec/18itrs\n",
      "Trained [100%]\tLoss: 1.3543 in 27 min \t(est. 27 min left)\n"
     ]
    }
   ],
   "source": [
    "for epoch in range(epochs):\n",
    "    total_loss = []\n",
    "    times = []\n",
    "    now = t.time()\n",
    "    \n",
    "    for batch_idx, (data, target) in enumerate(train_loader):\n",
    "        z = t.time()\n",
    "        optimizer.zero_grad(set_to_none=True)  # Initialize gradient\n",
    "        output = model4(data)  # Forward pass\n",
    "        loss = loss_func(output, target)  # Calculate loss\n",
    "        loss.backward()  # Backward pass\n",
    "        \n",
    "        optimizer.step()  # Optimize weights\n",
    "        total_loss.append(loss.item())  # Store loss\n",
    "        z = t.time() - z;\n",
    "        if ((batch_idx%(logspan))==0): print(f\"{int(z)*logspan} sec/{logspan}itrs\")\n",
    "    \n",
    "    scheduler.step()\n",
    "    end = int((t.time() - now)/60)+1\n",
    "    loss_list.append(sum(total_loss) / len(total_loss))\n",
    "    print(\"Trained [{:.0f}%]\\tLoss: {:.4f}\".format(100.0 * (epoch + 1) / epochs, loss_list[-1]), \n",
    "          f\"in {end} min \\t(est. {int((epochs-epoch)*end)} min left)\")\n",
    "    \n",
    "    diff = np.abs(loss_list[-1] - loss_list[-2]) /loss_list[-1]; \n",
    "    if diff <= 0.0005: # Early stopping criterial loss diff = 0.1%\n",
    "        print(\"Τraining Complete\")\n",
    "        break;"
   ]
  },
  {
   "cell_type": "code",
   "execution_count": 18,
   "id": "a0fd000f",
   "metadata": {},
   "outputs": [
    {
     "data": {
      "image/png": "[encoded data removed]",
      "text/plain": [
       "<Figure size 640x480 with 1 Axes>"
      ]
     },
     "metadata": {},
     "output_type": "display_data"
    }
   ],
   "source": [
    "# Plot loss convergence\n",
    "plt.plot(loss_list)\n",
    "plt.title(\"Hybrid NN Training Convergence\")\n",
    "plt.xlabel(\"Training Iterations\")\n",
    "plt.ylabel(\"Neg. Log Likelihood Loss\")\n",
    "plt.show()"
   ]
  },
  {
   "cell_type": "code",
   "execution_count": 19,
   "id": "732abd25",
   "metadata": {},
   "outputs": [
    {
     "name": "stdout",
     "output_type": "stream",
     "text": [
      "Performance on test data:\n",
      "\tLoss: 1.7869\n",
      "\tAccuracy: 20.0%\n",
      "Perfectly Random would be 20%\n"
     ]
    }
   ],
   "source": [
    "model4.eval()\n",
    "with torch.no_grad():\n",
    "    \n",
    "    correct = 0\n",
    "    for (data, target) in test_loader:\n",
    "        output = model4(data)\n",
    "        \n",
    "        pred = output.argmax(dim=1, keepdim=True) \n",
    "        correct += pred.eq(target.view_as(pred)).sum().item()\n",
    "        \n",
    "        loss = loss_func(output, target)\n",
    "        total_loss.append(loss.item())\n",
    "        \n",
    "    print('Performance on test data:\\n\\tLoss: {:.4f}\\n\\tAccuracy: {:.1f}%'.format(\n",
    "                sum(total_loss) / len(total_loss),\n",
    "                correct / len(test_loader) * 100)\n",
    "            )\n",
    "    print(f\"Perfectly Random would be {int(100/len(filt))}%\")"
   ]
  },
  {
   "cell_type": "code",
   "execution_count": 20,
   "id": "389455ec",
   "metadata": {},
   "outputs": [
    {
     "data": {
      "image/png": "[encoded data removed]",
      "text/plain": [
       "<Figure size 1000x300 with 15 Axes>"
      ]
     },
     "metadata": {},
     "output_type": "display_data"
    }
   ],
   "source": [
    "# Plot predicted labels\n",
    "\n",
    "n_samples_show = 15\n",
    "count = 0\n",
    "fig, axes = plt.subplots(nrows=1, ncols=n_samples_show, figsize=(10, 3))\n",
    "\n",
    "model4.eval()\n",
    "with no_grad():\n",
    "    for (data, target) in test_loader:\n",
    "        if count == n_samples_show:\n",
    "            break\n",
    "        output = model4(data[0:1])\n",
    "        if len(output.shape) == 1:\n",
    "            output = output.reshape(1, *output.shape)\n",
    "\n",
    "        pred = output.argmax(dim=1, keepdim=True)\n",
    "\n",
    "        axes[count].imshow(data[0].numpy().squeeze(), cmap=\"viridis\")\n",
    "\n",
    "        axes[count].set_xticks([])\n",
    "        axes[count].set_yticks([])\n",
    "        axes[count].set_title(\"{}\".format(pred.item()))\n",
    "\n",
    "        count += 1"
   ]
  },
  {
   "cell_type": "code",
   "execution_count": null,
   "id": "bc742639",
   "metadata": {},
   "outputs": [],
   "source": []
  },
  {
   "cell_type": "code",
   "execution_count": null,
   "id": "5ef1918e",
   "metadata": {},
   "outputs": [],
   "source": []
  },
  {
   "cell_type": "code",
   "execution_count": null,
   "id": "834fa1e7",
   "metadata": {},
   "outputs": [],
   "source": []
  },
  {
   "cell_type": "code",
   "execution_count": 1,
   "id": "774aa964",
   "metadata": {},
   "outputs": [
    {
     "data": {
      "text/html": [
       "\n",
       "<style>\n",
       "html{filter:invert(0.86)}\n",
       "\n",
       "div.prompt{opacity: 0.5;}\n",
       "\n",
       ".btn-default{border-color: transparent;}\n",
       "\n",
       "#header-container{display:none !important;}\n",
       "\n",
       "div.cell.selected, div.cell.selected.jupyter-soft-selected{border-color: transparent;}\n",
       "</style>\n"
      ],
      "text/plain": [
       "<IPython.core.display.HTML object>"
      ]
     },
     "execution_count": 1,
     "metadata": {},
     "output_type": "execute_result"
    }
   ],
   "source": [
    "from IPython.core.display import HTML\n",
    "HTML(\"\"\"\n",
    "<style>\n",
    "html{filter:invert(0.86)}\n",
    "\n",
    "div.prompt{opacity: 0.5;}\n",
    "\n",
    ".btn-default{border-color: transparent;}\n",
    "\n",
    "#header-container{display:none !important;}\n",
    "\n",
    "div.cell.selected, div.cell.selected.jupyter-soft-selected{border-color: transparent;}\n",
    "</style>\n",
    "\"\"\")"
   ]
  }
 ],
 "metadata": {
  "kernelspec": {
   "display_name": "Python 3 (ipykernel)",
   "language": "python",
   "name": "python3"
  },
  "language_info": {
   "codemirror_mode": {
    "name": "ipython",
    "version": 3
   },
   "file_extension": ".py",
   "mimetype": "text/x-python",
   "name": "python",
   "nbconvert_exporter": "python",
   "pygments_lexer": "ipython3",
   "version": "3.11.0"
  }
 },
 "nbformat": 4,
 "nbformat_minor": 5
}
