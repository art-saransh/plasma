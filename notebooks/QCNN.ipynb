{
 "cells": [
  {
   "cell_type": "code",
   "execution_count": 1,
   "id": "0fae4db8",
   "metadata": {},
   "outputs": [],
   "source": [
    "import time as t\n",
    "import numpy as np\n",
    "import matplotlib.pyplot as plt \n",
    "\n",
    "import qiskit\n",
    "from qiskit.visualization import *\n",
    "import qiskit_machine_learning as qml\n",
    "from qiskit_machine_learning.connectors import TorchConnector\n",
    "from qiskit.circuit.library import EfficientSU2\n",
    "import qiskit.circuit as Q\n",
    "\n",
    "import torch\n",
    "from torch import cat, no_grad, manual_seed\n",
    "from torch.optim import Adam\n",
    "from torch.optim.lr_scheduler import ExponentialLR\n",
    "from torch.nn import (\n",
    "    Module,\n",
    "    Conv2d,\n",
    "    Linear,\n",
    "    Dropout2d,\n",
    "    CrossEntropyLoss,\n",
    "    MaxPool2d,\n",
    "    Flatten,\n",
    "    Sequential,\n",
    "    ReLU,\n",
    "    Parameter,\n",
    ")\n",
    "import torch.nn.functional as F\n",
    "import math\n",
    "\n",
    "from utils import gtt, make_filt"
   ]
  },
  {
   "cell_type": "code",
   "execution_count": 2,
   "id": "3c9b514f",
   "metadata": {},
   "outputs": [
    {
     "name": "stdout",
     "output_type": "stream",
     "text": [
      "using 10 |> @2000 points ∈ [0, 1, 2, 3, 4, 5, 6, 7, 8, 9] for 10 epochs\n"
     ]
    }
   ],
   "source": [
    "epochs = 10  # Set number of epochs\n",
    "filt, digits = make_filt(None)\n",
    "# filt, digits = make_filt([0,1,3,5,6])\n",
    "\n",
    "qubits = digits\n",
    "n_train = 200*digits\n",
    "\n",
    "print(f'using {qubits} |> @{n_train} points ∈ {filt} for {epochs} epochs')\n",
    "train_loader, test_loader = gtt(n_train, filt, batch_size=1)"
   ]
  },
  {
   "cell_type": "code",
   "execution_count": 3,
   "id": "24efd4f7",
   "metadata": {},
   "outputs": [],
   "source": [
    "def ansat(prefix):\n",
    "    ansatz = EfficientSU2(2, su2_gates=['rz'], entanglement='linear', reps=1, parameter_prefix=prefix)\n",
    "    return ansatz\n",
    "qubits = 4\n",
    "shots = 512\n",
    "\n",
    "backend = qiskit.Aer.get_backend('aer_simulator')"
   ]
  },
  {
   "cell_type": "code",
   "execution_count": 167,
   "id": "5ac57b96",
   "metadata": {},
   "outputs": [],
   "source": [
    "def QConvCircuit(qubits):\n",
    "    params = [Q.Parameter(f\"rx_{i}\") for i in range(0,qubits)]\n",
    "    all_q = [i for i in range(qubits)]\n",
    "\n",
    "    qc = Q.QuantumCircuit(qubits, 1)\n",
    "\n",
    "    qc.h(all_q)\n",
    "    for i in all_q: qc.rx(params[i], i)\n",
    "    for i in all_q: qc.cx(i, (i+1)%4)\n",
    "\n",
    "    qc.barrier()\n",
    "    qc.compose(ansat('a'), qubits=[0,1], inplace=True)\n",
    "    qc.compose(ansat('b'), qubits=[2,3], inplace=True)\n",
    "    qc.crx(Q.Parameter('mp_11'), 0,1)\n",
    "    qc.crx(Q.Parameter('mp_12'), 2,3)\n",
    "    qc.barrier()\n",
    "\n",
    "    qc.compose(ansat('c'), qubits=[1,3], inplace=True)    \n",
    "    qc.crx(Q.Parameter('mp_21'), 1,3)\n",
    "    qc.barrier()\n",
    "\n",
    "    qc.measure(3,0)\n",
    "    qc = qiskit.compiler.transpile(qc, optimization_level=3)\n",
    "    \n",
    "    return qc, params"
   ]
  },
  {
   "cell_type": "code",
   "execution_count": 192,
   "id": "13a7480c",
   "metadata": {},
   "outputs": [],
   "source": [
    "class QConv(Module):\n",
    "    def __init__(self, in_channels, out_channels=1):\n",
    "        super().__init__()\n",
    "        self.in_channels = in_channels\n",
    "        self.out_channels = out_channels\n",
    "        \n",
    "        self.qc, self.params = QConvCircuit(qubits)\n",
    "        \n",
    "        # PARAMETERS TO STORE WEIGHTS ONLY\n",
    "        self.weights = [c for c in self.qc.parameters if c.name[0]!=\"r\"] \n",
    "        # Remove the inputs from weights s.t. inputs are rx_i\n",
    "        \n",
    "        self.kern_dicts = [\n",
    "            {\n",
    "               h: np.random.rand() for h in self.weights\n",
    "            } for i in range(out_channels)\n",
    "        ]\n",
    "\n",
    "    @staticmethod\n",
    "    def forward(self, x):\n",
    "        _, height, width = x.shape\n",
    "        output_height = height - 2\n",
    "        output_width = width - 2\n",
    "        \n",
    "        output = torch.zeros(self.out_channels, output_height, output_width)\n",
    "\n",
    "        for kernId,kern in enumerate(self.kern_dicts): # for each kernel\n",
    "            print(kernId)\n",
    "            for i in range(output_height): # loop over images\n",
    "                for j in range(output_width):\n",
    "                    block = x[:, i:i+2, j:j+2].flatten(start_dim=1)\n",
    "                    block_angles = block / 255 * 2 * torch.pi - torch.pi # rx_i inputs\n",
    "                    \n",
    "                    # initialise inputs\n",
    "                    params_dict = dict(zip(self.params, block_angles.flatten().tolist()))\n",
    "                    params_dict.update(kern) # add the weights to the circuit params\n",
    "                    \n",
    "                    bc = self.qc.assign_parameters(params_dict)\n",
    "                    \n",
    "                    q_output = qiskit.execute(bc, backend, shots=512).result().get_counts()\n",
    "                    output[kernId, i, j] = q_output['1']\n",
    "                    \n",
    "        return output\n",
    "    \n",
    "    def backward(self, grad_output):\n",
    "    batch_size, height, width = self.input_shape\n",
    "    \n",
    "    # Create zero gradient tensor for input x\n",
    "    grad_x = np.zeros_like(self.x)\n",
    "    \n",
    "    for kernId, kern in enumerate(self.kern_dicts): # for each kernel\n",
    "        for i in range(height - 2): # loop over images\n",
    "            for j in range(width - 2):\n",
    "                # Flatten the 2x2 block into a 1D tensor\n",
    "                block = self.x[:, i:i+2, j:j+2].reshape(batch_size, -1)\n",
    "                \n",
    "                # Compute gradients for each qiskit parameter\n",
    "                for param in self.params:\n",
    "                    grads = np.zeros_like(block)\n",
    "                    for p_idx in range(block.size):\n",
    "                        # Compute gradient for this specific parameter\n",
    "                        param_dict = dict(zip(self.params, block.flatten()))\n",
    "                        param_dict.update(kern)\n",
    "                        param_dict[param] += np.pi / 255.\n",
    "                        # Apply a forward pass on a circuit with only this parameter changed\n",
    "                        bc = self.qc.assign_parameters(param_dict)\n",
    "                        q_output = qiskit.execute(bc, backend, shots=512).result().get_counts()\n",
    "                        # Update the gradient tensor with the computed gradient\n",
    "                        grads[p_idx] = (q_output['1'] - self.output[kernId, i, j]) / (2 * np.pi / 255.)\n",
    "                    # Reshape the gradient tensor back to 2x2 shape and add it to the grad_x tensor\n",
    "                    grads = grads.reshape(batch_size, 2, 2)\n",
    "                    grad_x[:, i:i+2, j:j+2] += grads * grad_output[kernId, i, j]\n",
    "    \n",
    "    return grad_x"
   ]
  },
  {
   "cell_type": "code",
   "execution_count": 193,
   "id": "14ac26fc",
   "metadata": {},
   "outputs": [],
   "source": [
    "class Net(Module):\n",
    "    def __init__(self):\n",
    "        super().__init__()\n",
    "        self.conv1 = QConv(1)\n",
    "        self.conv2 = QConv(1)\n",
    "        self.fc = Linear(25, 10)\n",
    "\n",
    "    def forward(self, x):\n",
    "        x = self.conv1(x)\n",
    "        x = MaxPool2d(kernel_size=2)(x)\n",
    "        x = self.conv2(x)\n",
    "        x = MaxPool2d(kernel_size=2)(x)\n",
    "        x = x.view(1, -1)\n",
    "        x = self.fc(x)\n",
    "        return x"
   ]
  },
  {
   "cell_type": "code",
   "execution_count": 194,
   "id": "b809d737",
   "metadata": {},
   "outputs": [
    {
     "name": "stdout",
     "output_type": "stream",
     "text": [
      "Net(\n",
      "  (conv1): QConv()\n",
      "  (conv2): QConv()\n",
      "  (fc): Linear(in_features=25, out_features=10, bias=True)\n",
      ")\n",
      "0\n",
      "0\n",
      "tensor([[ -97.8214,  106.8174,  245.8011,  191.4290, -260.1871,   69.5751,\n",
      "         -229.5763, -115.5377,   69.1743,   63.7736]],\n",
      "       grad_fn=<AddmmBackward0>)\n"
     ]
    }
   ],
   "source": [
    "model = Net()\n",
    "print(model)\n",
    "print(model(torch.randn(1,28,28)))"
   ]
  },
  {
   "cell_type": "code",
   "execution_count": null,
   "id": "bf5978b9",
   "metadata": {},
   "outputs": [],
   "source": []
  },
  {
   "cell_type": "code",
   "execution_count": null,
   "id": "1d7b589b",
   "metadata": {},
   "outputs": [],
   "source": []
  },
  {
   "cell_type": "code",
   "execution_count": null,
   "id": "be9dc5c1",
   "metadata": {},
   "outputs": [],
   "source": []
  },
  {
   "cell_type": "code",
   "execution_count": null,
   "id": "02fec046",
   "metadata": {},
   "outputs": [],
   "source": []
  },
  {
   "cell_type": "code",
   "execution_count": null,
   "id": "10eee966",
   "metadata": {},
   "outputs": [],
   "source": []
  },
  {
   "cell_type": "code",
   "execution_count": null,
   "id": "d240e324",
   "metadata": {},
   "outputs": [],
   "source": []
  },
  {
   "cell_type": "code",
   "execution_count": null,
   "id": "7a17d588",
   "metadata": {},
   "outputs": [],
   "source": []
  },
  {
   "cell_type": "code",
   "execution_count": null,
   "id": "0b08bfad",
   "metadata": {},
   "outputs": [],
   "source": []
  },
  {
   "cell_type": "code",
   "execution_count": null,
   "id": "f942da93",
   "metadata": {},
   "outputs": [],
   "source": []
  },
  {
   "cell_type": "code",
   "execution_count": 185,
   "id": "7fb25018",
   "metadata": {},
   "outputs": [
    {
     "data": {
      "image/png": "[encoded data removed]",
      "text/plain": [
       "<Figure size 1625.27x451.5 with 1 Axes>"
      ]
     },
     "execution_count": 185,
     "metadata": {},
     "output_type": "execute_result"
    }
   ],
   "source": [
    "params = [Q.Parameter(f\"rx_{i}\") for i in range(0,qubits)]\n",
    "all_q = [i for i in range(qubits)]\n",
    "qc = Q.QuantumCircuit(qubits, 1)\n",
    "\n",
    "qc.h(all_q)\n",
    "for i in all_q:\n",
    "    qc.rx(params[i], i);\n",
    "for i in all_q:\n",
    "    qc.cx(i,(i+1)%4)\n",
    "\n",
    "qc.barrier()\n",
    "qc.compose(ansat('a'),qubits=[0,1], inplace=True)\n",
    "qc.compose(ansat('b'),qubits=[2,3], inplace=True)\n",
    "qc.crx(Q.Parameter(\"wx_11\"), 0,1)\n",
    "qc.crx(Q.Parameter(\"wx_12\"), 2,3)\n",
    "qc.barrier()\n",
    "\n",
    "qc.compose(ansat('c'),qubits=[1,3], inplace=True)    \n",
    "qc.crx(Q.Parameter(\"wx_21\"), 1, 3)\n",
    "qc.barrier()\n",
    "\n",
    "qc.measure(3,0)\n",
    "\n",
    "qc.draw('mpl')"
   ]
  },
  {
   "cell_type": "code",
   "execution_count": 5,
   "id": "f00ad87a",
   "metadata": {},
   "outputs": [
    {
     "ename": "NameError",
     "evalue": "name 'Conv2x2' is not defined",
     "output_type": "error",
     "traceback": [
      "\u001b[0;31m---------------------------------------------------------------------------\u001b[0m",
      "\u001b[0;31mNameError\u001b[0m                                 Traceback (most recent call last)",
      "Cell \u001b[0;32mIn[5], line 2\u001b[0m\n\u001b[1;32m      1\u001b[0m inputs \u001b[38;5;241m=\u001b[39m np\u001b[38;5;241m.\u001b[39mrandom\u001b[38;5;241m.\u001b[39mrandn(\u001b[38;5;241m4\u001b[39m)\u001b[38;5;241m.\u001b[39mastype(np\u001b[38;5;241m.\u001b[39mfloat16)\n\u001b[0;32m----> 2\u001b[0m circ \u001b[38;5;241m=\u001b[39m \u001b[43mConv2x2\u001b[49m(inputs)\n\u001b[1;32m      4\u001b[0m weights \u001b[38;5;241m=\u001b[39m np\u001b[38;5;241m.\u001b[39mrandom\u001b[38;5;241m.\u001b[39mrand(\u001b[38;5;28mlen\u001b[39m(circ\u001b[38;5;241m.\u001b[39mparameters))\n\u001b[1;32m      5\u001b[0m \u001b[38;5;28mprint\u001b[39m(weights)\n",
      "\u001b[0;31mNameError\u001b[0m: name 'Conv2x2' is not defined"
     ]
    }
   ],
   "source": [
    "inputs = np.random.randn(4).astype(np.float16)\n",
    "circ = Conv2x2(inputs)\n",
    "\n",
    "weights = np.random.rand(len(circ.parameters))\n",
    "print(weights)\n",
    "\n",
    "bound = circ.assign_parameters({param: np.round(np.random.rand(),4) for param in circ.parameters})\n",
    "\n",
    "result = qiskit.execute(circ, backend, shots=shots).result().get_counts()\n",
    "one = result['1']/shots\n",
    "print(f\"PROB of 1: {one}\")\n",
    "bound.draw(\"mpl\")"
   ]
  },
  {
   "cell_type": "code",
   "execution_count": null,
   "id": "31434121",
   "metadata": {},
   "outputs": [],
   "source": []
  },
  {
   "cell_type": "code",
   "execution_count": null,
   "id": "7d653089",
   "metadata": {},
   "outputs": [],
   "source": []
  },
  {
   "cell_type": "code",
   "execution_count": null,
   "id": "d325a7d3",
   "metadata": {},
   "outputs": [],
   "source": [
    "# Define model, optimizer, and loss function\n",
    "optimizer = Adam(model4.parameters(), lr=0.01)\n",
    "scheduler = ExponentialLR(optimizer, gamma=0.99)\n",
    "\n",
    "loss_func = CrossEntropyLoss()\n",
    "\n",
    "# Start training\n",
    "loss_list = [2.3]  # Store loss history\n",
    "model4.train()  # Set model to training mode\n",
    "\n",
    "itrs = len(train_loader)\n",
    "logspan = int(itrs*44/100) # 12%\n",
    "\n",
    "print(f\"Running training for {qubits} Qubits @{itrs} itrs/epoch\")"
   ]
  },
  {
   "cell_type": "code",
   "execution_count": null,
   "id": "150b9e66",
   "metadata": {},
   "outputs": [],
   "source": [
    "for epoch in range(epochs):\n",
    "    total_loss = []\n",
    "    times = []\n",
    "    now = t.time()\n",
    "    \n",
    "    for batch_idx, (data, target) in enumerate(train_loader):\n",
    "        z = t.time()\n",
    "        optimizer.zero_grad(set_to_none=True)  # Initialize gradient\n",
    "        output = model4(data)  # Forward pass\n",
    "        loss = loss_func(output, target)  # Calculate loss\n",
    "        loss.backward()  # Backward pass\n",
    "        \n",
    "        optimizer.step()  # Optimize weights\n",
    "        total_loss.append(loss.item())  # Store loss\n",
    "        z = t.time() - z;\n",
    "        if ((batch_idx%(logspan))==0): print(f\"{int(z)*logspan} sec/{logspan}itrs\")\n",
    "    \n",
    "    scheduler.step()\n",
    "    end = int((t.time() - now)/60)+1\n",
    "    loss_list.append(sum(total_loss) / len(total_loss))\n",
    "    print(\"Trained [{:.0f}%]\\tLoss: {:.4f}\".format(100.0 * (epoch + 1) / epochs, loss_list[-1]), \n",
    "          f\"in {end} min \\t(<{int((epochs-epoch-1)*end)} min left)\")\n",
    "    \n",
    "    diff = np.abs(loss_list[-1] - loss_list[-2]) /loss_list[-1]; \n",
    "    if diff <= 0.0005: # Early stopping criterial loss diff = 0.1%\n",
    "        print(\"Τraining Complete\")\n",
    "        break;"
   ]
  },
  {
   "cell_type": "code",
   "execution_count": null,
   "id": "a0fd000f",
   "metadata": {},
   "outputs": [],
   "source": [
    "# Plot loss convergence\n",
    "plt.plot(loss_list)\n",
    "plt.title(\"Hybrid NN Training Convergence\")\n",
    "plt.xlabel(\"Training Iterations\")\n",
    "plt.ylabel(\"Neg. Log Likelihood Loss\")\n",
    "plt.show()"
   ]
  },
  {
   "cell_type": "code",
   "execution_count": null,
   "id": "edf6e0ff",
   "metadata": {},
   "outputs": [],
   "source": [
    "model4.eval()\n",
    "with torch.no_grad():\n",
    "    \n",
    "    correct = 0\n",
    "    for (data, target) in test_loader:\n",
    "        output = model4(data)\n",
    "        \n",
    "        pred = output.argmax(dim=1, keepdim=True) \n",
    "        correct += pred.eq(target.view_as(pred)).sum().item()\n",
    "        \n",
    "        loss = loss_func(output, target)\n",
    "        total_loss.append(loss.item())\n",
    "        \n",
    "    print('Performance on test data:\\n\\tLoss: {:.4f}\\n\\tAccuracy: {:.1f}%'.format(\n",
    "                sum(total_loss) / len(total_loss),\n",
    "                correct / len(test_loader) * 100)\n",
    "            )\n",
    "    print(f\"\\tRandom: {int(100/digits)}%\")"
   ]
  },
  {
   "cell_type": "code",
   "execution_count": null,
   "id": "389455ec",
   "metadata": {},
   "outputs": [],
   "source": [
    "# Plot predicted labels\n",
    "\n",
    "n_samples_show = 15\n",
    "count = 0\n",
    "fig, axes = plt.subplots(nrows=1, ncols=n_samples_show, figsize=(10, 3))\n",
    "\n",
    "model4.eval()\n",
    "with no_grad():\n",
    "    for (data, target) in test_loader:\n",
    "        if count == n_samples_show:\n",
    "            break\n",
    "        output = model4(data[0:1])\n",
    "        if len(output.shape) == 1:\n",
    "            output = output.reshape(1, *output.shape)\n",
    "\n",
    "        pred = output.argmax(dim=1, keepdim=True)\n",
    "\n",
    "        axes[count].imshow(data[0].numpy().squeeze(), cmap=\"viridis\")\n",
    "\n",
    "        axes[count].set_xticks([])\n",
    "        axes[count].set_yticks([])\n",
    "        axes[count].set_title(\"{}\".format(pred.item()))\n",
    "\n",
    "        count += 1"
   ]
  },
  {
   "cell_type": "code",
   "execution_count": null,
   "id": "bc742639",
   "metadata": {},
   "outputs": [],
   "source": []
  },
  {
   "cell_type": "code",
   "execution_count": null,
   "id": "834fa1e7",
   "metadata": {},
   "outputs": [],
   "source": []
  },
  {
   "cell_type": "code",
   "execution_count": 47,
   "id": "774aa964",
   "metadata": {},
   "outputs": [
    {
     "data": {
      "text/html": [
       "\n",
       "<style>\n",
       "html{filter:invert(0.86)}\n",
       "\n",
       "div.prompt{opacity: 0.5;}\n",
       "\n",
       ".btn-default{border-color: transparent;}\n",
       "\n",
       "#header-container{display:none !important;}\n",
       "\n",
       "div.cell.selected, div.cell.selected.jupyter-soft-selected{border-color: transparent;}\n",
       "</style>\n"
      ],
      "text/plain": [
       "<IPython.core.display.HTML object>"
      ]
     },
     "execution_count": 47,
     "metadata": {},
     "output_type": "execute_result"
    }
   ],
   "source": [
    "from IPython.core.display import HTML\n",
    "HTML(\"\"\"\n",
    "<style>\n",
    "html{filter:invert(0.86)}\n",
    "\n",
    "div.prompt{opacity: 0.5;}\n",
    "\n",
    ".btn-default{border-color: transparent;}\n",
    "\n",
    "#header-container{display:none !important;}\n",
    "\n",
    "div.cell.selected, div.cell.selected.jupyter-soft-selected{border-color: transparent;}\n",
    "</style>\n",
    "\"\"\")"
   ]
  },
  {
   "cell_type": "code",
   "execution_count": null,
   "id": "952f263c",
   "metadata": {},
   "outputs": [],
   "source": []
  }
 ],
 "metadata": {
  "kernelspec": {
   "display_name": "Python 3 (ipykernel)",
   "language": "python",
   "name": "python3"
  },
  "language_info": {
   "codemirror_mode": {
    "name": "ipython",
    "version": 3
   },
   "file_extension": ".py",
   "mimetype": "text/x-python",
   "name": "python",
   "nbconvert_exporter": "python",
   "pygments_lexer": "ipython3",
   "version": "3.11.0"
  }
 },
 "nbformat": 4,
 "nbformat_minor": 5
}
