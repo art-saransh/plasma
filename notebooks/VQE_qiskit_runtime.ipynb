{
 "cells": [
  {
   "cell_type": "code",
   "execution_count": null,
   "id": "268d17bd",
   "metadata": {},
   "outputs": [],
   "source": [
    "from qiskit_ibm_provider import IBMProvider\n",
    "provider = IBMProvider()\n",
    "from qiskit_nature.units import DistanceUnit\n",
    "from qiskit_nature.second_q.drivers import PySCFDriver\n",
    "from qiskit_nature.second_q.transformers import FreezeCoreTransformer\n",
    "from qiskit_nature.second_q.properties import ParticleNumber\n",
    "from qiskit_nature.second_q.mappers import JordanWignerMapper, QubitConverter, ParityMapper\n",
    "from qiskit_nature.second_q.circuit.library import HartreeFock, UCCSD\n",
    "from qiskit.algorithms.optimizers import SLSQP, L_BFGS_B, SPSA, COBYLA\n",
    "import numpy as np\n",
    "bond_distance = 0.28\n",
    "driver = PySCFDriver(\n",
    "    atom=f\"H 0 0 0; H 0 0 {bond_distance}\",\n",
    "    basis=\"sto3g\",\n",
    "    charge=0,\n",
    "    spin=0,\n",
    "    unit=DistanceUnit.ANGSTROM,\n",
    ")\n",
    "es_problem = driver.run()\n",
    "hamiltonian = es_problem.hamiltonian\n",
    "second_q_op = hamiltonian.second_q_op()\n",
    "converter = QubitConverter(ParityMapper(), two_qubit_reduction=True, z2symmetry_reduction=[-1])\n",
    "num_particles = es_problem.num_particles\n",
    "num_spatial_orbitals = es_problem.num_spatial_orbitals\n",
    "qubit_op = converter.convert(second_q_op, num_particles)\n",
    "init_state = HartreeFock(num_spatial_orbitals, num_particles, converter)\n",
    "ansatz = UCCSD(num_spatial_orbitals=num_spatial_orbitals, num_particles=num_particles, qubit_converter=converter, reps=1, initial_state=init_state, generalized=False)\n",
    "from qiskit.algorithms.minimum_eigensolvers import VQE\n",
    "from qiskit_ibm_runtime import QiskitRuntimeService, Sampler, Estimator, Session, Options\n",
    "service = QiskitRuntimeService(channel=\"ibm_quantum\", instance='ibm-q-education/ibm-india-1/acm-winter-schoo')\n",
    "sim = service.get_backend('ibmq_qasm_simulator')\n",
    "from qiskit_aer.noise import NoiseModel\n",
    "backend = service.get_backend('ibmq_jakarta')\n",
    "noise_model = NoiseModel.from_backend(backend)\n",
    "options = Options()\n",
    "options.simulator = {\n",
    "    \"noise_model\": noise_model,\n",
    "    \"basis_gates\": backend.configuration().basis_gates,\n",
    "    \"coupling_map\": backend.configuration().coupling_map\n",
    "}\n",
    "options.execution.shots = 500000\n",
    "options.optimization_level = 0\n",
    "options.resilience_level = 1\n",
    "optimizer = L_BFGS_B(maxiter = 100, eps=1e-02)  # for a quick test\n",
    "with Session(service=service, backend=sim):\n",
    "    estimator = Estimator(options=options)\n",
    "    vqe = VQE(estimator=estimator, ansatz=ansatz, optimizer=optimizer)\n",
    "    result = vqe.compute_minimum_eigenvalue(qubit_op)\n",
    "print(result)\n",
    "freeze_core = es_problem.hamiltonian.constants\n",
    "energies = list(freeze_core.values())\n",
    "gse = result.optimal_value + energies[0]\n",
    "print(\"gse(hartree)=\",gse)"
   ]
  }
 ],
 "metadata": {
  "kernelspec": {
   "display_name": "Python 3 (ipykernel)",
   "language": "python",
   "name": "python3"
  },
  "language_info": {
   "codemirror_mode": {
    "name": "ipython",
    "version": 3
   },
   "file_extension": ".py",
   "mimetype": "text/x-python",
   "name": "python",
   "nbconvert_exporter": "python",
   "pygments_lexer": "ipython3",
   "version": "3.9.12"
  }
 },
 "nbformat": 4,
 "nbformat_minor": 5
}
