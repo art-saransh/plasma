{
 "cells": [
  {
   "cell_type": "markdown",
   "id": "4bc19016",
   "metadata": {},
   "source": [
    "If you ask me why Jen Connelly then you don't understand what art is"
   ]
  },
  {
   "cell_type": "markdown",
   "id": "8cb7e598",
   "metadata": {},
   "source": [
    "### `<img src='filename.jpg'>`\n",
    "<img src='filename.jpg'>"
   ]
  },
  {
   "cell_type": "markdown",
   "id": "edb22e8b",
   "metadata": {},
   "source": [
    "### `<img src=\"filename.jpg\">`\n",
    "<img src=\"filename.jpg\">"
   ]
  },
  {
   "cell_type": "markdown",
   "id": "74550e7c",
   "metadata": {},
   "source": [
    "### `<img src=\"./filename.jpg\">`\n",
    "<img src=\"./filename.jpg\">"
   ]
  },
  {
   "cell_type": "code",
   "execution_count": null,
   "id": "40ccffd4",
   "metadata": {},
   "outputs": [],
   "source": []
  }
 ],
 "metadata": {
  "kernelspec": {
   "display_name": "Python 3 (ipykernel)",
   "language": "python",
   "name": "python3"
  },
  "language_info": {
   "codemirror_mode": {
    "name": "ipython",
    "version": 3
   },
   "file_extension": ".py",
   "mimetype": "text/x-python",
   "name": "python",
   "nbconvert_exporter": "python",
   "pygments_lexer": "ipython3",
   "version": "3.11.0"
  }
 },
 "nbformat": 4,
 "nbformat_minor": 5
}
