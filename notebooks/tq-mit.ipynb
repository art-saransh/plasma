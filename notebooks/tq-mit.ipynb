{
 "cells": [
  {
   "cell_type": "code",
   "execution_count": null,
   "id": "5a9ef4a1",
   "metadata": {},
   "outputs": [
    {
     "name": "stdout",
     "output_type": "stream",
     "text": [
      "Obtaining torchquantum from git+https://github.com/mit-han-lab/torchquantum.git#egg=torchquantum\n",
      "  Cloning https://github.com/mit-han-lab/torchquantum.git to ./src/torchquantum\n",
      "  Running command git clone --filter=blob:none --quiet https://github.com/mit-han-lab/torchquantum.git /Users/gojira/Documents/GitHub.nosync/plasma/notebooks/src/torchquantum\n",
      "  Resolved https://github.com/mit-han-lab/torchquantum.git to commit f754a1bdea7cd04b5db6a3961709753d715e0978\n",
      "  Running command git submodule update --init --recursive -q\n",
      "  Preparing metadata (setup.py) ... \u001b[?25ldone\n",
      "\u001b[?25hRequirement already satisfied: numpy>=1.19.2 in /opt/homebrew/Caskroom/miniconda/base/envs/qiskit/lib/python3.11/site-packages (from torchquantum) (1.23.5)\n",
      "Requirement already satisfied: torchvision>=0.9.0.dev20210130 in /opt/homebrew/Caskroom/miniconda/base/envs/qiskit/lib/python3.11/site-packages (from torchquantum) (0.15.1)\n",
      "Requirement already satisfied: tqdm>=4.56.0 in /opt/homebrew/Caskroom/miniconda/base/envs/qiskit/lib/python3.11/site-packages (from torchquantum) (4.65.0)\n",
      "Requirement already satisfied: setuptools>=52.0.0 in /opt/homebrew/Caskroom/miniconda/base/envs/qiskit/lib/python3.11/site-packages (from torchquantum) (65.6.3)\n",
      "Requirement already satisfied: torch>=1.8.0 in /opt/homebrew/Caskroom/miniconda/base/envs/qiskit/lib/python3.11/site-packages (from torchquantum) (2.0.0)\n",
      "Requirement already satisfied: torchpack>=0.3.0 in /opt/homebrew/Caskroom/miniconda/base/envs/qiskit/lib/python3.11/site-packages (from torchquantum) (0.3.1)\n",
      "Collecting qiskit==0.38.0\n",
      "  Using cached qiskit-0.38.0-py3-none-any.whl\n",
      "Requirement already satisfied: matplotlib>=3.3.2 in /opt/homebrew/Caskroom/miniconda/base/envs/qiskit/lib/python3.11/site-packages (from torchquantum) (3.7.1)\n",
      "Requirement already satisfied: pathos>=0.2.7 in /opt/homebrew/Caskroom/miniconda/base/envs/qiskit/lib/python3.11/site-packages (from torchquantum) (0.3.0)\n",
      "Requirement already satisfied: pylatexenc>=2.10 in /opt/homebrew/Caskroom/miniconda/base/envs/qiskit/lib/python3.11/site-packages (from torchquantum) (2.10)\n",
      "Collecting dill==0.3.4\n",
      "  Using cached dill-0.3.4-py2.py3-none-any.whl (86 kB)\n",
      "Collecting qiskit-terra==0.21.2\n",
      "  Using cached qiskit_terra-0.21.2-cp311-cp311-macosx_12_0_arm64.whl\n",
      "Collecting qiskit-aer==0.11.0\n",
      "  Using cached qiskit-aer-0.11.0.tar.gz (6.5 MB)\n",
      "  Installing build dependencies ... \u001b[?25ldone\n",
      "\u001b[?25h  Getting requirements to build wheel ... \u001b[?25ldone\n",
      "\u001b[?25h  Preparing metadata (pyproject.toml) ... \u001b[?25ldone\n",
      "\u001b[?25hCollecting qiskit-ibmq-provider==0.19.2\n",
      "  Using cached qiskit_ibmq_provider-0.19.2-py3-none-any.whl (240 kB)\n",
      "Requirement already satisfied: scipy>=1.0 in /opt/homebrew/Caskroom/miniconda/base/envs/qiskit/lib/python3.11/site-packages (from qiskit-aer==0.11.0->qiskit==0.38.0->torchquantum) (1.10.1)\n",
      "Requirement already satisfied: requests>=2.19 in /opt/homebrew/Caskroom/miniconda/base/envs/qiskit/lib/python3.11/site-packages (from qiskit-ibmq-provider==0.19.2->qiskit==0.38.0->torchquantum) (2.28.2)\n",
      "Requirement already satisfied: requests-ntlm>=1.1.0 in /opt/homebrew/Caskroom/miniconda/base/envs/qiskit/lib/python3.11/site-packages (from qiskit-ibmq-provider==0.19.2->qiskit==0.38.0->torchquantum) (1.1.0)\n",
      "Requirement already satisfied: urllib3>=1.21.1 in /opt/homebrew/Caskroom/miniconda/base/envs/qiskit/lib/python3.11/site-packages (from qiskit-ibmq-provider==0.19.2->qiskit==0.38.0->torchquantum) (1.26.15)\n",
      "Requirement already satisfied: python-dateutil>=2.8.0 in /opt/homebrew/Caskroom/miniconda/base/envs/qiskit/lib/python3.11/site-packages (from qiskit-ibmq-provider==0.19.2->qiskit==0.38.0->torchquantum) (2.8.2)\n",
      "Requirement already satisfied: websocket-client>=1.0.1 in /opt/homebrew/Caskroom/miniconda/base/envs/qiskit/lib/python3.11/site-packages (from qiskit-ibmq-provider==0.19.2->qiskit==0.38.0->torchquantum) (1.5.1)\n",
      "Requirement already satisfied: websockets>=10.0 in /opt/homebrew/Caskroom/miniconda/base/envs/qiskit/lib/python3.11/site-packages (from qiskit-ibmq-provider==0.19.2->qiskit==0.38.0->torchquantum) (10.4)\n",
      "Collecting retworkx>=0.11.0\n",
      "  Using cached retworkx-0.12.1-py3-none-any.whl (10 kB)\n",
      "Requirement already satisfied: ply>=3.10 in /opt/homebrew/Caskroom/miniconda/base/envs/qiskit/lib/python3.11/site-packages (from qiskit-terra==0.21.2->qiskit==0.38.0->torchquantum) (3.11)\n",
      "Requirement already satisfied: psutil>=5 in /opt/homebrew/Caskroom/miniconda/base/envs/qiskit/lib/python3.11/site-packages (from qiskit-terra==0.21.2->qiskit==0.38.0->torchquantum) (5.9.0)\n",
      "Requirement already satisfied: sympy>=1.3 in /opt/homebrew/Caskroom/miniconda/base/envs/qiskit/lib/python3.11/site-packages (from qiskit-terra==0.21.2->qiskit==0.38.0->torchquantum) (1.11.1)\n",
      "Requirement already satisfied: stevedore>=3.0.0 in /opt/homebrew/Caskroom/miniconda/base/envs/qiskit/lib/python3.11/site-packages (from qiskit-terra==0.21.2->qiskit==0.38.0->torchquantum) (5.0.0)\n",
      "Collecting tweedledum<2.0,>=1.1\n",
      "  Using cached tweedledum-1.1.1.tar.gz (4.8 MB)\n",
      "  Installing build dependencies ... \u001b[?25l-"
     ]
    }
   ],
   "source": [
    "!pip install --editable git+https://github.com/mit-han-lab/torchquantum.git#egg=torchquantum"
   ]
  },
  {
   "cell_type": "code",
   "execution_count": 13,
   "id": "d96118be",
   "metadata": {},
   "outputs": [
    {
     "name": "stdout",
     "output_type": "stream",
     "text": [
      "env: PYTHONPATH=.\n"
     ]
    }
   ],
   "source": [
    "%env PYTHONPATH=."
   ]
  },
  {
   "cell_type": "code",
   "execution_count": 14,
   "id": "50059978",
   "metadata": {},
   "outputs": [
    {
     "ename": "ModuleNotFoundError",
     "evalue": "No module named 'torchquantum.encoding'",
     "output_type": "error",
     "traceback": [
      "\u001b[0;31m---------------------------------------------------------------------------\u001b[0m",
      "\u001b[0;31mModuleNotFoundError\u001b[0m                       Traceback (most recent call last)",
      "Cell \u001b[0;32mIn[14], line 10\u001b[0m\n\u001b[1;32m      6\u001b[0m \u001b[38;5;28;01mimport\u001b[39;00m \u001b[38;5;21;01mtorchquantum\u001b[39;00m \u001b[38;5;28;01mas\u001b[39;00m \u001b[38;5;21;01mtq\u001b[39;00m\n\u001b[1;32m      7\u001b[0m \u001b[38;5;28;01mimport\u001b[39;00m \u001b[38;5;21;01mrandom\u001b[39;00m\n\u001b[0;32m---> 10\u001b[0m \u001b[38;5;28;01mfrom\u001b[39;00m \u001b[38;5;21;01mtorchquantum\u001b[39;00m\u001b[38;5;21;01m.\u001b[39;00m\u001b[38;5;21;01mencoding\u001b[39;00m \u001b[38;5;28;01mimport\u001b[39;00m encoder_op_list_name_dict\n\u001b[1;32m     11\u001b[0m \u001b[38;5;28;01mfrom\u001b[39;00m \u001b[38;5;21;01mtorchquantum\u001b[39;00m\u001b[38;5;21;01m.\u001b[39;00m\u001b[38;5;21;01mlayers\u001b[39;00m \u001b[38;5;28;01mimport\u001b[39;00m U3CU3Layer0\n\u001b[1;32m     13\u001b[0m \u001b[38;5;28;01mfrom\u001b[39;00m \u001b[38;5;21;01mtorch\u001b[39;00m\u001b[38;5;21;01m.\u001b[39;00m\u001b[38;5;21;01moptim\u001b[39;00m\u001b[38;5;21;01m.\u001b[39;00m\u001b[38;5;21;01mlr_scheduler\u001b[39;00m \u001b[38;5;28;01mimport\u001b[39;00m CosineAnnealingLR\n",
      "\u001b[0;31mModuleNotFoundError\u001b[0m: No module named 'torchquantum.encoding'"
     ]
    }
   ],
   "source": [
    "import torch\n",
    "import torch.nn.functional as F\n",
    "import torch.optim as optim\n",
    "import numpy as np\n",
    "\n",
    "import torchquantum as tq\n",
    "import random\n",
    "\n",
    "\n",
    "from torchquantum.encoding import encoder_op_list_name_dict\n",
    "from torchquantum.layers import U3CU3Layer0\n",
    "\n",
    "from torch.optim.lr_scheduler import CosineAnnealingLR"
   ]
  },
  {
   "cell_type": "code",
   "execution_count": null,
   "id": "d49076c0",
   "metadata": {},
   "outputs": [],
   "source": []
  },
  {
   "cell_type": "code",
   "execution_count": null,
   "id": "57efd6c8",
   "metadata": {},
   "outputs": [],
   "source": [
    "class TrainableQuanvFilter(tq.QuantumModule):\n",
    "    def __init__(self):\n",
    "        super().__init__()\n",
    "        self.n_wires = 4\n",
    "        self.q_device = tq.QuantumDevice(n_wires=self.n_wires)\n",
    "        self.encoder = tq.GeneralEncoder(\n",
    "        [   {'input_idx': [0], 'func': 'ry', 'wires': [0]},\n",
    "            {'input_idx': [1], 'func': 'ry', 'wires': [1]},\n",
    "            {'input_idx': [2], 'func': 'ry', 'wires': [2]},\n",
    "            {'input_idx': [3], 'func': 'ry', 'wires': [3]},])\n",
    "        \n",
    "        self.arch = {'n_wires': self.n_wires, 'n_blocks': 5, 'n_layers_per_block': 2}\n",
    "        self.q_layer = U3CU3Layer0(self.arch)\n",
    "        self.measure = tq.MeasureAll(tq.PauliZ)\n",
    "\n",
    "    def forward(self, x, use_qiskit=False):\n",
    "        bsz = x.shape[0]\n",
    "        x = F.avg_pool2d(x, 6).view(bsz, 4, 4)\n",
    "        size = 4\n",
    "        stride = 2\n",
    "        x = x.view(bsz, size, size)\n",
    "\n",
    "        data_list = []\n",
    "\n",
    "        for c in range(0, size, stride):\n",
    "            for r in range(0, size, stride):\n",
    "                data = torch.transpose(torch.cat((x[:, c, r], x[:, c, r+1], x[:, c+1, r], x[:, c+1, r+1])).view(4, bsz), 0, 1)\n",
    "                if use_qiskit:\n",
    "                    data = self.qiskit_processor.process_parameterized(\n",
    "                        self.q_device, self.encoder, self.q_layer, self.measure, data)\n",
    "                else:\n",
    "                    self.encoder(self.q_device, data)\n",
    "                    self.q_layer(self.q_device)\n",
    "                    data = self.measure(self.q_device)\n",
    "\n",
    "                data_list.append(data.view(bsz, 4))\n",
    "        \n",
    "        # transpose to (bsz, channel, 2x2)\n",
    "        result = torch.transpose(torch.cat(data_list, dim=1).view(bsz, 4, 4), 1, 2).float()\n",
    "        \n",
    "        return result"
   ]
  },
  {
   "cell_type": "code",
   "execution_count": null,
   "id": "aad2953a",
   "metadata": {},
   "outputs": [],
   "source": [
    "class QuantumClassifier(torch.nn.Module):\n",
    "    def __init__(self):\n",
    "        super().__init__()\n",
    "        self.n_wires = 4\n",
    "        self.q_device = tq.QuantumDevice(n_wires=4)\n",
    "        self.encoder = tq.GeneralEncoder(encoder_op_list_name_dict['4x4_ryzxy'])\n",
    "        self.arch = {'n_wires': self.n_wires, 'n_blocks': 8, 'n_layers_per_block': 2}\n",
    "        self.ansatz = U3CU3Layer0(self.arch)\n",
    "        self.measure = tq.MeasureAll(tq.PauliZ)\n",
    "    \n",
    "    def forward(self, x, use_qiskit=False):\n",
    "        bsz = x.shape[0]\n",
    "        x = F.avg_pool2d(x, 6).view(bsz, 16)\n",
    "\n",
    "        if use_qiskit:\n",
    "            x = self.qiskit_processor.process_parameterized(\n",
    "                self.q_device, self.encoder, self.q_layer, self.measure, x)\n",
    "        else:\n",
    "            self.encoder(self.q_device, x)\n",
    "            self.ansatz(self.q_device)\n",
    "            x = self.measure(self.q_device)\n",
    "\n",
    "        return x\n",
    "\n",
    "class QFC(tq.QuantumModule):\n",
    "    def __init__(self):\n",
    "        super().__init__()\n",
    "        self.n_wires = 4\n",
    "        self.q_device = tq.QuantumDevice(n_wires=self.n_wires)\n",
    "        self.encoder = tq.GeneralEncoder(encoder_op_list_name_dict['4x4_ryzxy'])\n",
    "        self.arch = {'n_wires': self.n_wires, 'n_blocks': 4, 'n_layers_per_block': 2}\n",
    "\n",
    "        self.q_layer = U3CU3Layer0(self.arch)\n",
    "        self.measure = tq.MeasureAll(tq.PauliZ)\n",
    "\n",
    "    def forward(self, x, use_qiskit=False):\n",
    "        bsz = x.shape[0]\n",
    "        data = x\n",
    "        if use_qiskit:\n",
    "            data = self.qiskit_processor.process_parameterized(\n",
    "                self.q_device, self.encoder, self.q_layer, self.measure, data)\n",
    "        else:\n",
    "            self.encoder(self.q_device, data)\n",
    "            self.q_layer(self.q_device)\n",
    "            data = self.measure(self.q_device)\n",
    "        return data\n",
    "\n",
    "\n",
    "class Model1(torch.nn.Module):\n",
    "    def __init__(self):\n",
    "        super().__init__()\n",
    "        self.qf = TrainableQuanvFilter()\n",
    "        self.linear = torch.nn.Linear(16, 4)\n",
    "    \n",
    "    def forward(self, x, use_qiskit=False):\n",
    "        x = x.view(-1, 28, 28)\n",
    "        x = self.qf(x)\n",
    "        x = x.reshape(-1, 16)\n",
    "        x = self.linear(x)\n",
    "        return F.log_softmax(x, -1)\n",
    "\n",
    "class Model2(torch.nn.Module):\n",
    "    def __init__(self):\n",
    "        super().__init__()\n",
    "        self.qf = TrainableQuanvFilter()\n",
    "        self.qfc = QFC()\n",
    "    \n",
    "    def forward(self, x, use_qiskit=False):\n",
    "        x = x.view(-1, 28, 28)\n",
    "        x = self.qf(x)\n",
    "        x = x.reshape(-1, 16)\n",
    "        x = self.qfc(x)\n",
    "        return F.log_softmax(x, -1)\n",
    "\n",
    "class Model3(torch.nn.Module):\n",
    "    def __init__(self):\n",
    "        super().__init__()\n",
    "        self.qfc = QuantumClassifier()\n",
    "    \n",
    "    def forward(self, x, use_qiskit=False):\n",
    "        x = self.qfc(x)\n",
    "        return F.log_softmax(x, -1)\n",
    "\n",
    "class Model4(torch.nn.Module):\n",
    "    def __init__(self):\n",
    "        super().__init__()\n",
    "        self.linear1 = torch.nn.Linear(16, 9)\n",
    "        self.linear2 = torch.nn.Linear(9, 4)\n",
    "    \n",
    "    def forward(self, x, use_qiskit=False):\n",
    "        x = x.view(-1, 28, 28)\n",
    "        bsz = x.shape[0]\n",
    "        x = F.avg_pool2d(x, 6).view(bsz, 16)\n",
    "\n",
    "        x = self.linear1(x)\n",
    "        x = self.linear2(x)\n",
    "        return F.log_softmax(x, -1)"
   ]
  },
  {
   "cell_type": "code",
   "execution_count": null,
   "id": "3fd4918d",
   "metadata": {},
   "outputs": [],
   "source": []
  },
  {
   "cell_type": "code",
   "execution_count": null,
   "id": "2782f4b5",
   "metadata": {},
   "outputs": [],
   "source": []
  },
  {
   "cell_type": "code",
   "execution_count": null,
   "id": "bc6e5dd9",
   "metadata": {},
   "outputs": [],
   "source": []
  },
  {
   "cell_type": "code",
   "execution_count": null,
   "id": "d8d08b6f",
   "metadata": {},
   "outputs": [],
   "source": []
  },
  {
   "cell_type": "code",
   "execution_count": null,
   "id": "93cb1bbe",
   "metadata": {},
   "outputs": [],
   "source": []
  },
  {
   "cell_type": "code",
   "execution_count": null,
   "id": "9f570ee5",
   "metadata": {},
   "outputs": [],
   "source": []
  },
  {
   "cell_type": "code",
   "execution_count": null,
   "id": "082a05af",
   "metadata": {},
   "outputs": [],
   "source": []
  },
  {
   "cell_type": "code",
   "execution_count": null,
   "id": "572a32f5",
   "metadata": {},
   "outputs": [],
   "source": []
  },
  {
   "cell_type": "code",
   "execution_count": null,
   "id": "af815341",
   "metadata": {},
   "outputs": [],
   "source": []
  },
  {
   "cell_type": "code",
   "execution_count": null,
   "id": "f8b9720e",
   "metadata": {},
   "outputs": [],
   "source": []
  },
  {
   "cell_type": "code",
   "execution_count": 17,
   "id": "8dc2cc77",
   "metadata": {},
   "outputs": [
    {
     "data": {
      "text/html": [
       "\n",
       "<style>\n",
       "html{filter:invert(0.86)}\n",
       "\n",
       "div.prompt{opacity: 0.5;}\n",
       "\n",
       ".btn-default{border-color: transparent;}\n",
       "\n",
       "#header-container{display:none !important;}\n",
       "\n",
       "div.cell.selected, div.cell.selected.jupyter-soft-selected{border-color: transparent;}\n",
       "</style>\n"
      ],
      "text/plain": [
       "<IPython.core.display.HTML object>"
      ]
     },
     "execution_count": 17,
     "metadata": {},
     "output_type": "execute_result"
    }
   ],
   "source": [
    "from IPython.core.display import HTML\n",
    "HTML(\"\"\"\n",
    "<style>\n",
    "html{filter:invert(0.86)}\n",
    "\n",
    "div.prompt{opacity: 0.5;}\n",
    "\n",
    ".btn-default{border-color: transparent;}\n",
    "\n",
    "#header-container{display:none !important;}\n",
    "\n",
    "div.cell.selected, div.cell.selected.jupyter-soft-selected{border-color: transparent;}\n",
    "</style>\n",
    "\"\"\")\n"
   ]
  },
  {
   "cell_type": "code",
   "execution_count": null,
   "id": "de867e0a",
   "metadata": {},
   "outputs": [],
   "source": []
  }
 ],
 "metadata": {
  "kernelspec": {
   "display_name": "Python 3 (ipykernel)",
   "language": "python",
   "name": "python3"
  },
  "language_info": {
   "codemirror_mode": {
    "name": "ipython",
    "version": 3
   },
   "file_extension": ".py",
   "mimetype": "text/x-python",
   "name": "python",
   "nbconvert_exporter": "python",
   "pygments_lexer": "ipython3",
   "version": "3.11.0"
  }
 },
 "nbformat": 4,
 "nbformat_minor": 5
}
